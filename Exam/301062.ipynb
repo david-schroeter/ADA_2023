{
 "cells": [
  {
   "cell_type": "markdown",
   "id": "e4fc29c0d30afb83",
   "metadata": {},
   "source": [
    "# ADA final exam (Fall 2023)\n",
    "\n",
    "This exam consists of 2 parts. Parts are independent from each other.\n",
    "\n",
    "## Dataset\n",
    "\n",
    "\n",
    "\"Friends\" is an American television sitcom that originally aired on NBC from September 22, 1994, to May 6, 2004. Created by David Crane and Marta Kauffman, the show gained immense popularity and has since become a classic in the world of television. The series is set in New York City and revolves around a group of six friends: Ross Geller (David Schwimmer), Rachel Green (Jennifer Aniston), Monica Geller (Courteney Cox), Chandler Bing (Matthew Perry), Joey Tribbiani (Matt LeBlanc), and Phoebe Buffay (Lisa Kudrow). The show explores their personal and professional lives as they navigate the ups and downs of relationships, careers, and the challenges of adulthood.\n",
    "\n",
    "In this exam, we will use a dataset containing all the conversations that occurred over 10 seasons of Friends. We refer to each row in the dataset as an 'utterance.\" The data format of the dataset is as follows\n",
    "\n",
    "- id: `<str>`, the index of the utterance in the format sAA_eBB_cCC_uDDD, where AA is the season number, BB is the episode number, CC is the scene/conversation number, and DDD is the number of the utterance in the scene (e.g. s01_e18_c05_u021).\n",
    "- speaker: `<str>`, the speaker who made the utterance, e.g. Monica Geller\n",
    "- conversation_id: `<str>`, the id of the first utterance in the conversation this utterance belongs. We assume conversations begin at the start of a new scene.\n",
    "- reply_to: `<str>`, the id of the utterance to which this utterance replies. None if the utterance is the first in a conversation.\n",
    "- text: `<str>`, the textual content of the utterance.\n"
   ]
  },
  {
   "cell_type": "code",
   "execution_count": 1,
   "id": "b039cc2f",
   "metadata": {
    "ExecuteTime": {
     "end_time": "2024-01-16T15:30:31.388220251Z",
     "start_time": "2024-01-16T15:30:31.227624278Z"
    }
   },
   "outputs": [],
   "source": [
    "# First, let's import some required libraries!\n",
    "import statsmodels.formula.api as smf\n",
    "import pandas as pd\n",
    "from collections import Counter\n",
    "import networkx as nx\n",
    "import seaborn as sns\n",
    "import matplotlib.pyplot as plt\n",
    "import itertools\n",
    "import numpy as np"
   ]
  },
  {
   "cell_type": "markdown",
   "id": "77be188a",
   "metadata": {},
   "source": [
    "\n",
    "## Part 1: The one where you find the protagonist (60 pts)\n",
    "\n",
    "A big debate among Friends fans is: who is the show's main character? In this task, your goal is to provide a data-driven answer to this question.\n",
    "\n",
    "\n",
    "--- \n",
    "\n",
    "**1.1 —** Load the data from the jsonl file `exam1.jsonl` into a pandas dataframe. Then\n",
    " \n",
    " A. Calculate and display the number of distinct speakers in the dataframe.\n",
    " \n",
    " B. Calculate and display the number of conversations (see `conversation_id`).\n",
    " \n",
    " C. Remove all utterances from the dataframe where the `speaker` is \"TRANSCRIPT_NOTE\" or \"#ALL#\". Print the number of rows in the dataframe.\n",
    " \n",
    " D. Create additional columns corresponding to the season (`season`, e.g., season 1 should contain `s01`) and the episode (`episode`, e.g., episode 5 of season 4 should contain `s04_e05`) of each utterance. Print the season and the episode associated with utterance `s10_e18_c11_u019`.\n",
    " \n",
    " E. Create an additional column corresponding to the length of each utterance in terms of the number of characters (`length`). Print the length associated with utterance `s10_e18_c11_u019`.\n"
   ]
  },
  {
   "cell_type": "code",
   "execution_count": 2,
   "id": "d4daa420",
   "metadata": {
    "ExecuteTime": {
     "end_time": "2024-01-16T15:30:31.623386786Z",
     "start_time": "2024-01-16T15:30:31.391142032Z"
    }
   },
   "outputs": [
    {
     "name": "stdout",
     "output_type": "stream",
     "text": [
      "The number of distinct speaker is: 700\n"
     ]
    }
   ],
   "source": [
    "exam1_data = pd.read_json('data/exam1.jsonl', lines=True)\n",
    "\n",
    "n_distinct_speaker = exam1_data.speaker.nunique()\n",
    "print(f\"The number of distinct speaker is: {n_distinct_speaker}\")"
   ]
  },
  {
   "cell_type": "code",
   "outputs": [
    {
     "name": "stdout",
     "output_type": "stream",
     "text": [
      "The number of distinct conversation given by conversation_id is: 3107\n"
     ]
    }
   ],
   "source": [
    "n_distinct_conversation_id = exam1_data.conversation_id.nunique()\n",
    "print(f\"The number of distinct conversation given by conversation_id is: {n_distinct_conversation_id}\")"
   ],
   "metadata": {
    "collapsed": false,
    "ExecuteTime": {
     "end_time": "2024-01-16T15:30:31.632731175Z",
     "start_time": "2024-01-16T15:30:31.626273993Z"
    }
   },
   "id": "b6c11bf62a252829",
   "execution_count": 3
  },
  {
   "cell_type": "code",
   "outputs": [
    {
     "name": "stdout",
     "output_type": "stream",
     "text": [
      "After removing '#ALL#' and 'TRANSCRIPT_NOTE', there is 60985 rows left in the dataframe.\n"
     ]
    }
   ],
   "source": [
    "index_to_keep = ~((exam1_data.speaker == '#ALL#') | (exam1_data.speaker == 'TRANSCRIPT_NOTE'))\n",
    "\n",
    "exam1_data_removed_speakers = exam1_data[index_to_keep].reset_index(drop=True)\n",
    "print(f\"After removing '#ALL#' and 'TRANSCRIPT_NOTE', there is {len(exam1_data_removed_speakers)} rows left in the dataframe.\")"
   ],
   "metadata": {
    "collapsed": false,
    "ExecuteTime": {
     "end_time": "2024-01-16T15:30:31.696835299Z",
     "start_time": "2024-01-16T15:30:31.633187986Z"
    }
   },
   "id": "11feb61233ac1fad",
   "execution_count": 4
  },
  {
   "cell_type": "code",
   "outputs": [
    {
     "data": {
      "text/plain": "      season  episode\n60982    s10  s10_e18",
      "text/html": "<div>\n<style scoped>\n    .dataframe tbody tr th:only-of-type {\n        vertical-align: middle;\n    }\n\n    .dataframe tbody tr th {\n        vertical-align: top;\n    }\n\n    .dataframe thead th {\n        text-align: right;\n    }\n</style>\n<table border=\"1\" class=\"dataframe\">\n  <thead>\n    <tr style=\"text-align: right;\">\n      <th></th>\n      <th>season</th>\n      <th>episode</th>\n    </tr>\n  </thead>\n  <tbody>\n    <tr>\n      <th>60982</th>\n      <td>s10</td>\n      <td>s10_e18</td>\n    </tr>\n  </tbody>\n</table>\n</div>"
     },
     "metadata": {},
     "output_type": "display_data"
    }
   ],
   "source": [
    "exam1_data_removed_speakers['season'] = exam1_data_removed_speakers.apply(lambda row: row['id'][:3], axis=1)\n",
    "exam1_data_removed_speakers['episode'] = exam1_data_removed_speakers.apply(lambda row: row['id'][:7], axis=1)\n",
    "display(exam1_data_removed_speakers.query('id == \"s10_e18_c11_u019\"')[['season', 'episode']])"
   ],
   "metadata": {
    "collapsed": false,
    "ExecuteTime": {
     "end_time": "2024-01-16T15:30:32.255255642Z",
     "start_time": "2024-01-16T15:30:31.700849901Z"
    }
   },
   "id": "3005f0efb541f764",
   "execution_count": 5
  },
  {
   "cell_type": "code",
   "outputs": [
    {
     "name": "stdout",
     "output_type": "stream",
     "text": [
      "The utterance length for s10_e18_c11_u019 is: 17.\n"
     ]
    }
   ],
   "source": [
    "exam1_data_removed_speakers['utterance_length'] = exam1_data_removed_speakers.apply(lambda row: len(row['text']), axis=1)\n",
    "utterance_length = exam1_data_removed_speakers.query('id == \"s10_e18_c11_u019\"')['utterance_length'].item()\n",
    "print(f'The utterance length for s10_e18_c11_u019 is: {utterance_length}.')"
   ],
   "metadata": {
    "collapsed": false,
    "ExecuteTime": {
     "end_time": "2024-01-16T15:30:32.531890334Z",
     "start_time": "2024-01-16T15:30:32.291712470Z"
    }
   },
   "id": "dafd7a9313b02b56",
   "execution_count": 6
  },
  {
   "cell_type": "markdown",
   "id": "60d3bdc7",
   "metadata": {},
   "source": [
    "**1.2** Next, you conduct some basic analyses:\n",
    "\n",
    " A. With `statsmodels`, fit a linear regression `length ~ C(season, Treatment(reference=\"s01\"))`, where length is an integer and season is a categorical variable. Print the regression summary.\n",
    " \n",
    " B. /**Discuss:/** Considering the regression summary:\n",
    "   - What does the intercept in this regression represent? \n",
    "   - What does the coefficient `C(season, Treatment(reference=\"s01\"))[T.s09]` represent? \n",
    "   - Does the average utterance in season 9 contain significantly more characters than in season 1 at the 0.05 significance level? Justify with the regression summary **only**. \n",
    "   - Does the average utterance in season 10 contain significantly more characters than in season 1 at the 0.05 significance level? Justify with the regression summary  **only** .\n",
    "\n",
    " C. Argue visually (i.e., with a plot) that there are 6 main characters in the show."
   ]
  },
  {
   "cell_type": "code",
   "outputs": [
    {
     "name": "stdout",
     "output_type": "stream",
     "text": [
      "                            OLS Regression Results                            \n",
      "==============================================================================\n",
      "Dep. Variable:       utterance_length   R-squared:                       0.001\n",
      "Model:                            OLS   Adj. R-squared:                  0.001\n",
      "Method:                 Least Squares   F-statistic:                     8.058\n",
      "Date:                Tue, 16 Jan 2024   Prob (F-statistic):           4.96e-12\n",
      "Time:                        16:30:32   Log-Likelihood:            -3.2981e+05\n",
      "No. Observations:               60985   AIC:                         6.596e+05\n",
      "Df Residuals:                   60975   BIC:                         6.597e+05\n",
      "Df Model:                           9                                         \n",
      "Covariance Type:            nonrobust                                         \n",
      "================================================================================================================\n",
      "                                                   coef    std err          t      P>|t|      [0.025      0.975]\n",
      "----------------------------------------------------------------------------------------------------------------\n",
      "Intercept                                       51.0190      0.704     72.464      0.000      49.639      52.399\n",
      "C(season, Treatment(reference=\"s01\"))[T.s02]     2.2764      1.004      2.268      0.023       0.309       4.243\n",
      "C(season, Treatment(reference=\"s01\"))[T.s03]     1.1906      0.974      1.222      0.222      -0.718       3.100\n",
      "C(season, Treatment(reference=\"s01\"))[T.s04]     0.6674      0.980      0.681      0.496      -1.253       2.588\n",
      "C(season, Treatment(reference=\"s01\"))[T.s05]    -0.3185      0.984     -0.324      0.746      -2.247       1.610\n",
      "C(season, Treatment(reference=\"s01\"))[T.s06]     1.9612      0.974      2.013      0.044       0.052       3.871\n",
      "C(season, Treatment(reference=\"s01\"))[T.s07]     0.3712      0.979      0.379      0.705      -1.548       2.290\n",
      "C(season, Treatment(reference=\"s01\"))[T.s08]     1.1265      0.982      1.147      0.251      -0.799       3.052\n",
      "C(season, Treatment(reference=\"s01\"))[T.s09]     6.0889      0.979      6.222      0.000       4.171       8.007\n",
      "C(season, Treatment(reference=\"s01\"))[T.s10]    -0.8470      1.026     -0.825      0.409      -2.858       1.164\n",
      "==============================================================================\n",
      "Omnibus:                    39360.499   Durbin-Watson:                   1.966\n",
      "Prob(Omnibus):                  0.000   Jarque-Bera (JB):           721113.209\n",
      "Skew:                           2.832   Prob(JB):                         0.00\n",
      "Kurtosis:                      18.865   Cond. No.                         11.1\n",
      "==============================================================================\n",
      "\n",
      "Notes:\n",
      "[1] Standard Errors assume that the covariance matrix of the errors is correctly specified.\n"
     ]
    }
   ],
   "source": [
    "mod = smf.ols(formula='utterance_length ~ C(season, Treatment(reference=\"s01\"))', data=exam1_data_removed_speakers)\n",
    "res = mod.fit()\n",
    "print(res.summary())"
   ],
   "metadata": {
    "collapsed": false,
    "ExecuteTime": {
     "end_time": "2024-01-16T15:30:32.754507932Z",
     "start_time": "2024-01-16T15:30:32.574067202Z"
    }
   },
   "id": "db93f9396838b9",
   "execution_count": 7
  },
  {
   "cell_type": "markdown",
   "source": [
    "- The intercept represents the mean length of the text for the season 1.\n",
    "- It represents the difference in the mean length of the text between season 9 and season 1.\n",
    "- Yes it does, as the p-value for its coefficient is smaller than the significance value 0.05 (i.e. it is statistically significant that the difference in mean length between season 1 and 9 is not 0).\n",
    "- This time the p-value is greater than 0.05. So we cannot say that the difference in mean between season 1 and season 10 is not 0."
   ],
   "metadata": {
    "collapsed": false
   },
   "id": "638811328f269991"
  },
  {
   "cell_type": "markdown",
   "id": "eeb47cab",
   "metadata": {},
   "source": [
    "--- \n",
    "**1.3 —** Using `networkx` \n",
    "\n",
    "A. Create a `MultiDiGraph` (directed graph with self loops and parallel edges) where:\n",
    "- Each node $u$ is a character uniquely identified by the `speaker` field.\n",
    "- There is an edge between nodes $u$ and $v$ if $u$ replied to $v$. If an utterance (a row in the dataframe) is said in reply to nobody, then it will not correspond to an edge. Each edge should contain two attributes. Each edge should have two attributes: `season` and `episode`.\n",
    "\n",
    "B. Print the number of nodes and edges in your graph.\n",
    "\n",
    "C. **/Discuss:/** Instead of using multi-edges, what would be another way in which you could capture the number of replies associated with each node pair?\n"
   ]
  },
  {
   "cell_type": "code",
   "execution_count": 8,
   "id": "9f362612",
   "metadata": {
    "ExecuteTime": {
     "end_time": "2024-01-16T15:30:32.950875147Z",
     "start_time": "2024-01-16T15:30:32.737845711Z"
    }
   },
   "outputs": [
    {
     "name": "stdout",
     "output_type": "stream",
     "text": [
      "MultiDiGraph with 692 nodes and 54904 edges\n"
     ]
    }
   ],
   "source": [
    "exam1_data_removed_speakers_graph_preprocessed = exam1_data_removed_speakers.merge(exam1_data_removed_speakers[['id', 'speaker']], left_on='reply-to', right_on='id')\n",
    "\n",
    "graph = nx.from_pandas_edgelist(exam1_data_removed_speakers_graph_preprocessed, 'speaker_x', 'speaker_y', edge_attr=['season', 'episode'], create_using=nx.MultiDiGraph())\n",
    "\n",
    "print(graph)"
   ]
  },
  {
   "cell_type": "markdown",
   "source": [
    "Instead of using a multi-edges directed graph, we could have used a standard directed graph, and simply add a weight on each edge representing the number of times this edge appears in the grap"
   ],
   "metadata": {
    "collapsed": false
   },
   "id": "17c4556158dffb3c"
  },
  {
   "cell_type": "markdown",
   "id": "130a16f1",
   "metadata": {},
   "source": [
    "---\n",
    "With the graph ready, you set out to investigate who is the true protagonist of Friends.\n",
    "\n",
    "Ignore the graph you generated previously and instead use the graph provided in `exam2.graphml`. Note that this graph may be slightly different from what you generated, but treat it as the ground truth. We provide you with code to load the graph below.\n"
   ]
  },
  {
   "cell_type": "code",
   "execution_count": 9,
   "id": "a917d360",
   "metadata": {
    "ExecuteTime": {
     "end_time": "2024-01-16T15:30:33.824188060Z",
     "start_time": "2024-01-16T15:30:33.031507689Z"
    }
   },
   "outputs": [],
   "source": [
    "import networkx as nx\n",
    "\n",
    "G = nx.read_graphml(\"./data/exam2.graphml\")"
   ]
  },
  {
   "cell_type": "markdown",
   "id": "6ad04b50",
   "metadata": {},
   "source": [
    "---"
   ]
  },
  {
   "cell_type": "markdown",
   "id": "53ee10e7",
   "metadata": {},
   "source": [
    "**1.4 —** Using the provided MultiDiGraph $G$:\n",
    "\n",
    "A. Calculate the out-degree of each node (also known as out-degree centrality). Please do not use the `nx.out_degree_centrality` function here, as it normalizes the degree. (E.g., if a node has 5 outgoing edges, it should have out-degree 5 according to your code.)\n",
    "\n",
    "B. Calculate the PageRank centrality of each node in $G$. Use the default parameters.\n",
    "\n",
    "C. Print both centrality metrics calculated above for the six main characters of Friends.\n",
    "\n",
    "D. **/Discuss:/** According to the metrics, who is the most important character in Friends?"
   ]
  },
  {
   "cell_type": "code",
   "execution_count": 11,
   "id": "aa8407dd",
   "metadata": {
    "ExecuteTime": {
     "end_time": "2024-01-16T15:30:50.942397959Z",
     "start_time": "2024-01-16T15:30:50.881390265Z"
    }
   },
   "outputs": [
    {
     "name": "stdout",
     "output_type": "stream",
     "text": [
      "Out degree centrality main characters:\n",
      "================================\n"
     ]
    },
    {
     "data": {
      "text/plain": "                out_degree\nSpeaker                   \nRachel Green          8470\nRoss Geller           8234\nChandler Bing         7702\nMonica Geller         7621\nJoey Tribbiani        7395\nPhoebe Buffay         6797",
      "text/html": "<div>\n<style scoped>\n    .dataframe tbody tr th:only-of-type {\n        vertical-align: middle;\n    }\n\n    .dataframe tbody tr th {\n        vertical-align: top;\n    }\n\n    .dataframe thead th {\n        text-align: right;\n    }\n</style>\n<table border=\"1\" class=\"dataframe\">\n  <thead>\n    <tr style=\"text-align: right;\">\n      <th></th>\n      <th>out_degree</th>\n    </tr>\n    <tr>\n      <th>Speaker</th>\n      <th></th>\n    </tr>\n  </thead>\n  <tbody>\n    <tr>\n      <th>Rachel Green</th>\n      <td>8470</td>\n    </tr>\n    <tr>\n      <th>Ross Geller</th>\n      <td>8234</td>\n    </tr>\n    <tr>\n      <th>Chandler Bing</th>\n      <td>7702</td>\n    </tr>\n    <tr>\n      <th>Monica Geller</th>\n      <td>7621</td>\n    </tr>\n    <tr>\n      <th>Joey Tribbiani</th>\n      <td>7395</td>\n    </tr>\n    <tr>\n      <th>Phoebe Buffay</th>\n      <td>6797</td>\n    </tr>\n  </tbody>\n</table>\n</div>"
     },
     "metadata": {},
     "output_type": "display_data"
    },
    {
     "name": "stdout",
     "output_type": "stream",
     "text": [
      "Page rank centrality main characters:\n",
      "=================================\n"
     ]
    },
    {
     "data": {
      "text/plain": "                page_rank\nSpeaker                  \nRachel Green     0.126843\nRoss Geller      0.125611\nChandler Bing    0.114535\nMonica Geller    0.113450\nJoey Tribbiani   0.112835\nPhoebe Buffay    0.102069",
      "text/html": "<div>\n<style scoped>\n    .dataframe tbody tr th:only-of-type {\n        vertical-align: middle;\n    }\n\n    .dataframe tbody tr th {\n        vertical-align: top;\n    }\n\n    .dataframe thead th {\n        text-align: right;\n    }\n</style>\n<table border=\"1\" class=\"dataframe\">\n  <thead>\n    <tr style=\"text-align: right;\">\n      <th></th>\n      <th>page_rank</th>\n    </tr>\n    <tr>\n      <th>Speaker</th>\n      <th></th>\n    </tr>\n  </thead>\n  <tbody>\n    <tr>\n      <th>Rachel Green</th>\n      <td>0.126843</td>\n    </tr>\n    <tr>\n      <th>Ross Geller</th>\n      <td>0.125611</td>\n    </tr>\n    <tr>\n      <th>Chandler Bing</th>\n      <td>0.114535</td>\n    </tr>\n    <tr>\n      <th>Monica Geller</th>\n      <td>0.113450</td>\n    </tr>\n    <tr>\n      <th>Joey Tribbiani</th>\n      <td>0.112835</td>\n    </tr>\n    <tr>\n      <th>Phoebe Buffay</th>\n      <td>0.102069</td>\n    </tr>\n  </tbody>\n</table>\n</div>"
     },
     "metadata": {},
     "output_type": "display_data"
    }
   ],
   "source": [
    "out_degree_nodes = list(G.out_degree())\n",
    "page_rank = nx.pagerank(G)\n",
    "\n",
    "main_characters = ['Ross Geller', 'Rachel Green', 'Monica Geller', 'Chandler Bing', 'Joey Tribbiani', 'Phoebe Buffay']\n",
    "\n",
    "speaker_out_degrees, out_degrees = list(zip(*out_degree_nodes))\n",
    "out_degree_nodes_df = pd.DataFrame({'Speaker': speaker_out_degrees, 'out_degree': out_degrees}).set_index('Speaker')\n",
    "page_rank_df = pd.DataFrame({'Speaker': page_rank.keys(), 'page_rank': page_rank.values()}).set_index('Speaker')\n",
    "\n",
    "print(\"Out degree centrality main characters:\\n================================\")\n",
    "display(out_degree_nodes_df.loc[main_characters].sort_values(by='out_degree', ascending=False))\n",
    "print(\"Page rank centrality main characters:\\n=================================\")\n",
    "display(page_rank_df.loc[main_characters].sort_values(by='page_rank', ascending=False))\n"
   ]
  },
  {
   "cell_type": "markdown",
   "source": [
    "According to both metrics the most important character is Rachel Green."
   ],
   "metadata": {
    "collapsed": false
   },
   "id": "7c608d4c18e1d78b"
  },
  {
   "cell_type": "markdown",
   "id": "fe9f1601",
   "metadata": {},
   "source": [
    "---\n",
    "\n",
    "**1.5 —** **/True or false:/** Considering your answer in **1.4**, are the following statements true or false? Justify your answers. \n",
    "\n",
    "A. \"If we inverted all  edges in the graph such that an edge $(u,v)$ becomes an edge $(v,u)$, the PageRank centrality would remain unchanged.\"\n",
    "\n",
    "B. \"If we removed all outgoing edges from Rachel Green, her PageRank centrality would remain unchanged.\"\n",
    "\n",
    "C. \"If a new node was introduced in the graph, with 1,000 outgoing edges towards each other node, but no incoming edge, it would have the highest PageRank centrality.\"\n"
   ]
  },
  {
   "cell_type": "markdown",
   "source": [
    "A: \n",
    "B: \n",
    "C: No it would not. To have a high PageRank centrality, it needs to have a lot of incoming edges, and few outgoing edges."
   ],
   "metadata": {
    "collapsed": false
   },
   "id": "8925bd599fa85b4c"
  },
  {
   "cell_type": "markdown",
   "id": "6e47355c",
   "metadata": {},
   "source": [
    "---\n",
    "\n",
    "**1.6 —** Next, you consider how these centrality metrics vary over the course of the seasons.\n",
    "\n",
    "A. Calculate the PageRank and out-degree centrality of the 6 main characters per episode, i.e., for each episode, create a graph containing only the utterances of that episode and calculate the PageRank centrality for this new graph. Print the PageRank and the out-degree of Rachel Green for the first episode of the first season.\n",
    "\n",
    "B. Considering the episode-level out-degree centrality of Phoebe Buffay in season 1 and in season 10, print the mean and the standard error of the mean.\n",
    "\n",
    "C. Create a single plot with 10 inches of width and 4 inches of height. The plot should contain two panels, containing the average PageRank centrality per season of Rachel Green and Ross Geller (Panel A), and the average out-degree per season of Rachel Green and Ross Geller (Panel B). Show 95% confidence intervals in your plot (calculated over the episodes in each season).\n",
    "\n",
    "D. **/Discuss:/** Does the plot support the hypothesis that Rachel was the show's protagonist in all 10 seasons? Explain why."
   ]
  },
  {
   "cell_type": "code",
   "execution_count": 203,
   "id": "4e09a998",
   "metadata": {
    "ExecuteTime": {
     "end_time": "2024-01-16T17:07:23.994106358Z",
     "start_time": "2024-01-16T17:07:22.797131580Z"
    }
   },
   "outputs": [
    {
     "name": "stdout",
     "output_type": "stream",
     "text": [
      "Out degree centrality Rachel Green:\n",
      "================================\n",
      "712\n",
      "Page rank centrality Rachel Green characters:\n",
      "=================================\n",
      "0.13117984349655953\n"
     ]
    }
   ],
   "source": [
    "# Iterate over seasons\n",
    "edges = G.edges\n",
    "out_degree_nodes_per_season = []\n",
    "page_rank_per_season = []\n",
    "for season in list(exam1_data_removed_speakers.season.unique()):\n",
    "    # create subgraph given season\n",
    "    edge_season = [ e for e in edges if edges[e]['season'] == season]\n",
    "    G_season = G.edge_subgraph(edge_season)\n",
    "\n",
    "    out_degree_nodes_per_season.append(list(G_season.out_degree()))\n",
    "    page_rank_per_season.append(nx.pagerank(G_season))\n",
    "\n",
    "\n",
    "speaker_out_degrees_fst_season, out_degrees_fst_season = list(zip(*out_degree_nodes_per_season[0]))\n",
    "out_degree_nodes_fst_season_df = pd.DataFrame({'Speaker': speaker_out_degrees_fst_season, 'out_degree': out_degrees_fst_season}).set_index('Speaker')\n",
    "page_rank_fst_season_df = pd.DataFrame({'Speaker': page_rank_per_season[0].keys(), 'page_rank': page_rank_per_season[0].values()}).set_index('Speaker')\n",
    "#\n",
    "print(\"Out degree centrality Rachel Green:\\n================================\")\n",
    "print(out_degree_nodes_fst_season_df.loc['Rachel Green'].item())\n",
    "print(\"Page rank centrality Rachel Green characters:\\n=================================\")\n",
    "print(page_rank_fst_season_df.loc['Rachel Green'].item())"
   ]
  },
  {
   "cell_type": "code",
   "outputs": [
    {
     "data": {
      "text/plain": "<Figure size 1000x400 with 2 Axes>",
      "image/png": "[encoded data removed]"
     },
     "metadata": {},
     "output_type": "display_data"
    }
   ],
   "source": [
    "plt.subplots(1, 2, figsize=(10, 4))\n",
    "\n",
    "plt.show()"
   ],
   "metadata": {
    "collapsed": false,
    "ExecuteTime": {
     "end_time": "2024-01-16T17:09:55.499197974Z",
     "start_time": "2024-01-16T17:09:55.279454908Z"
    }
   },
   "id": "fa8d1f2e6c3fc62f",
   "execution_count": 204
  },
  {
   "cell_type": "markdown",
   "id": "94b0e5b3",
   "metadata": {},
   "source": [
    "---\n",
    "\n",
    "**1.7 —** **/True or false:/** Considering your answer in **1.6** are the following statements true or false? Justify your answer. \n",
    "\n",
    "\n",
    "A. \"In season 7, Rachel Green's episode-level PageRank and out-degree centrality are higher than Ross Geller's. This difference is statistically significant at the 0.05 significance level.\"\n",
    "\n",
    "B. \"Phoebe Buffay's out-degree grew between season 1 and season 10; this implies that other characters spoke less than her in season 10.\"\n",
    "\n",
    "C. \"Phoebe Buffay's PageRank was higher in season 10 than in season 1. This difference is statistically significant at the 0.05 significance level and suggests that the character gained importance over the course of the show.\"\n"
   ]
  },
  {
   "cell_type": "code",
   "execution_count": null,
   "id": "87e48217",
   "metadata": {
    "ExecuteTime": {
     "start_time": "2024-01-16T15:30:34.028526630Z"
    }
   },
   "outputs": [],
   "source": []
  },
  {
   "cell_type": "markdown",
   "id": "84866967",
   "metadata": {},
   "source": [
    "## Part 2: The one about text similarity (40 pts)\n",
    "\n",
    "Next, you investigate how unique characters are by analyzing what they said throughout the 10 seasons."
   ]
  },
  {
   "cell_type": "markdown",
   "id": "176a69b8",
   "metadata": {},
   "source": [
    "**2.1 —** Load the dataframe `exam3.jsonl`. This dataframe is similar to `exam1.jsonl`, except:\n",
    "\n",
    "- It has an additional column called `tokens`, containing a sentence list. Each sentence is another list composed of tokens, e.g.,\n",
    "`[['There', \"'s\", 'nothing', 'to', 'tell', '!'], ['He', \"'s\", 'just', 'some', 'guy', 'I', 'work', 'with', '!']]`.\n",
    "- It has an additional column called `episode` containing a unique episode identifier.\n",
    "- It only contains utterances by Phoebe, Rachel, Ross, Joey, Monica, or Chandler (the main characters).\n",
    " \n",
    "Given this dataframe, you will create an episode-level word-frequency matrix for Chandler Bing, one of the main characters.\n",
    "\n",
    "A. Create a list $L$ containing all distinct tokens uttered by Chandler Bing throughout the 10 seasons, sorted in ascending order. Print the 10 first and last elements of the list. \n",
    "\n",
    "B. Create a matrix $X$ with $m$ rows and $n$ columns, where: $n$ is the number of tokens in the list $L$ that you just created, and $m$ is the number of episodes (236). Each position $X_{i,j}$ in this matrix should contain the number of times the character uttered the word $j$ in episode $i$. Print how many times Chandler uttered the token `joey` in the first episode of the first season, as well as the shape of the matrix $X$.\n",
    "\n",
    "C. Transform the matrix $X$ into a TF-IDF matrix $T$, combining the following formula (as seen in class):\n",
    "\n",
    "$$\\text{TF}(i,j) = \\text{number of times the $j$-th word occurs in the $i$-th episode}$$\n",
    "\n",
    "$$\\text{IDF}(j) =  \\log \\frac{\\text{number of episodes}}{\\text{number of episodes in which the $j$-th word occurs}}$$\n",
    "\n",
    "Print the value in the TF-IDF matrix corresponding to Chandler's utterance of the token `joey` in the first episode of the first season.\n",
    "\n",
    "D. **/Discuss:/** Some of the tokens (e.g., `joey`) reference other characters. How may these tokens help a classifier predict which character uttered a sentence?"
   ]
  },
  {
   "cell_type": "code",
   "execution_count": 16,
   "id": "2e951338",
   "metadata": {
    "ExecuteTime": {
     "end_time": "2024-01-16T15:33:26.056891864Z",
     "start_time": "2024-01-16T15:33:25.353482480Z"
    }
   },
   "outputs": [
    {
     "data": {
      "text/plain": "                 id   conversation_id  \\\n0  s01_e01_c01_u001  s01_e01_c01_u001   \n1  s01_e01_c01_u002  s01_e01_c01_u001   \n2  s01_e01_c01_u003  s01_e01_c01_u001   \n3  s01_e01_c01_u004  s01_e01_c01_u001   \n4  s01_e01_c01_u006  s01_e01_c01_u001   \n\n                                                text         speaker  \\\n0  There's nothing to tell! He's just some guy I ...   Monica Geller   \n1  C'mon, you're going out with the guy! There's ...  Joey Tribbiani   \n2  All right Joey, be nice. So does he have a hum...   Chandler Bing   \n3                           Wait, does he eat chalk?   Phoebe Buffay   \n4  Just, 'cause, I don't want her to go through w...   Phoebe Buffay   \n\n           reply-to                                             tokens  \\\n0              None  [[there, 's, nothing, to, tell, !], [he, 's, j...   \n1  s01_e01_c01_u001  [[c'mon, ,, you, 're, going, out, with, the, g...   \n2  s01_e01_c01_u002  [[all, right, joey, ,, be, nice, .], [so, does...   \n3  s01_e01_c01_u003               [[wait, ,, does, he, eat, chalk, ?]]   \n4  s01_e01_c01_u005  [[just, ,, ', cause, ,, i, do, n't, want, her,...   \n\n   episode  \n0  s01_e01  \n1  s01_e01  \n2  s01_e01  \n3  s01_e01  \n4  s01_e01  ",
      "text/html": "<div>\n<style scoped>\n    .dataframe tbody tr th:only-of-type {\n        vertical-align: middle;\n    }\n\n    .dataframe tbody tr th {\n        vertical-align: top;\n    }\n\n    .dataframe thead th {\n        text-align: right;\n    }\n</style>\n<table border=\"1\" class=\"dataframe\">\n  <thead>\n    <tr style=\"text-align: right;\">\n      <th></th>\n      <th>id</th>\n      <th>conversation_id</th>\n      <th>text</th>\n      <th>speaker</th>\n      <th>reply-to</th>\n      <th>tokens</th>\n      <th>episode</th>\n    </tr>\n  </thead>\n  <tbody>\n    <tr>\n      <th>0</th>\n      <td>s01_e01_c01_u001</td>\n      <td>s01_e01_c01_u001</td>\n      <td>There's nothing to tell! He's just some guy I ...</td>\n      <td>Monica Geller</td>\n      <td>None</td>\n      <td>[[there, 's, nothing, to, tell, !], [he, 's, j...</td>\n      <td>s01_e01</td>\n    </tr>\n    <tr>\n      <th>1</th>\n      <td>s01_e01_c01_u002</td>\n      <td>s01_e01_c01_u001</td>\n      <td>C'mon, you're going out with the guy! There's ...</td>\n      <td>Joey Tribbiani</td>\n      <td>s01_e01_c01_u001</td>\n      <td>[[c'mon, ,, you, 're, going, out, with, the, g...</td>\n      <td>s01_e01</td>\n    </tr>\n    <tr>\n      <th>2</th>\n      <td>s01_e01_c01_u003</td>\n      <td>s01_e01_c01_u001</td>\n      <td>All right Joey, be nice. So does he have a hum...</td>\n      <td>Chandler Bing</td>\n      <td>s01_e01_c01_u002</td>\n      <td>[[all, right, joey, ,, be, nice, .], [so, does...</td>\n      <td>s01_e01</td>\n    </tr>\n    <tr>\n      <th>3</th>\n      <td>s01_e01_c01_u004</td>\n      <td>s01_e01_c01_u001</td>\n      <td>Wait, does he eat chalk?</td>\n      <td>Phoebe Buffay</td>\n      <td>s01_e01_c01_u003</td>\n      <td>[[wait, ,, does, he, eat, chalk, ?]]</td>\n      <td>s01_e01</td>\n    </tr>\n    <tr>\n      <th>4</th>\n      <td>s01_e01_c01_u006</td>\n      <td>s01_e01_c01_u001</td>\n      <td>Just, 'cause, I don't want her to go through w...</td>\n      <td>Phoebe Buffay</td>\n      <td>s01_e01_c01_u005</td>\n      <td>[[just, ,, ', cause, ,, i, do, n't, want, her,...</td>\n      <td>s01_e01</td>\n    </tr>\n  </tbody>\n</table>\n</div>"
     },
     "metadata": {},
     "output_type": "display_data"
    }
   ],
   "source": [
    "exam3_data = pd.read_json('data/exam3.jsonl', lines=True)\n",
    "display(exam3_data.head())"
   ]
  },
  {
   "cell_type": "code",
   "outputs": [
    {
     "name": "stdout",
     "output_type": "stream",
     "text": [
      "List of 10 first token sorted in ascending order:\n",
      "===============================================\n",
      "['!', '!!', '!!!', '!!!!', '!!!!!', '!!!!!!!', '!..', '!...', '!?', '\"']\n"
     ]
    }
   ],
   "source": [
    "#A\n",
    "exam3_data_chandler = exam3_data.query('speaker == \"Chandler Bing\"')\n",
    "\n",
    "exam3_data_chandler_exploded_sentence = exam3_data_chandler.explode(column='tokens')\n",
    "exam3_data_chandler_exploded_tokens = exam3_data_chandler_exploded_sentence.explode(column='tokens')\n",
    "\n",
    "L = exam3_data_chandler_exploded_tokens.sort_values(by='tokens', ascending=True).tokens.unique()\n",
    "print(\"List of 10 first token sorted in ascending order:\\n===============================================\")\n",
    "print(list(L[:10]))"
   ],
   "metadata": {
    "collapsed": false,
    "ExecuteTime": {
     "end_time": "2024-01-16T15:41:17.368904802Z",
     "start_time": "2024-01-16T15:41:17.132562137Z"
    }
   },
   "id": "183913425ff2f7ba",
   "execution_count": 44
  },
  {
   "cell_type": "code",
   "outputs": [
    {
     "name": "stdout",
     "output_type": "stream",
     "text": [
      "Chandler uttered joey 1.0 times in the first episode of the first season.\n"
     ]
    }
   ],
   "source": [
    "exam3_data_chandler_tokens_episode_count = exam3_data_chandler_exploded_tokens.groupby('episode').apply(lambda row: row.groupby('tokens')['tokens'].count().rename('tokens_count'))\n",
    "\n",
    "X = exam3_data_chandler_tokens_episode_count.unstack()\n",
    "print(f\"Chandler uttered joey {X['joey']['s01_e01']} times in the first episode of the first season.\")"
   ],
   "metadata": {
    "collapsed": false,
    "ExecuteTime": {
     "end_time": "2024-01-16T16:32:55.147621265Z",
     "start_time": "2024-01-16T16:32:54.959175292Z"
    }
   },
   "id": "16808b52830fd4d6",
   "execution_count": 141
  },
  {
   "cell_type": "code",
   "outputs": [
    {
     "name": "stdout",
     "output_type": "stream",
     "text": [
      "Tf-Idf entry for Chandler uttering joey 0.6931471805599453 in the first episode of the first season.\n"
     ]
    }
   ],
   "source": [
    "nb_episode_token_occurs = X.isna().sum(axis=0)\n",
    "\n",
    "idf = np.log(X.shape[0]/nb_episode_token_occurs)\n",
    "tf = X\n",
    "\n",
    "tf_idf = tf * idf\n",
    "\n",
    "print(f\"Tf-Idf entry for Chandler uttering joey {tf_idf['joey']['s01_e01']} in the first episode of the first season.\")"
   ],
   "metadata": {
    "collapsed": false,
    "ExecuteTime": {
     "end_time": "2024-01-16T16:42:46.068157676Z",
     "start_time": "2024-01-16T16:42:46.016629188Z"
    }
   },
   "id": "fb72c67a8b66b4f4",
   "execution_count": 169
  },
  {
   "cell_type": "markdown",
   "source": [
    "It may help the classifier to know that if a character says the name of another, there is a high chance that it is not this character that uttered the sentence. (i.e. there is little chance that someone says his own name when speaking to someone)"
   ],
   "metadata": {
    "collapsed": false
   },
   "id": "f9a6d5a26d0f80d8"
  },
  {
   "cell_type": "markdown",
   "id": "9b691ae5",
   "metadata": {},
   "source": [
    "---\n",
    "For the remainder of the task, you will use the TF-IDF matrix that we compute below. Note:\n",
    "- This matrix was calculated in a slightly different way: it considers only the 1000 tokens with the highest term frequency.\n",
    "- We provide three useful variables below (`X`, `y`, and `df_tfidf`). \n",
    "    - `X` is a matrix containing the TF-IDF values for the top 1000 tokens, where each row corresponds to a character in an episode. \n",
    "    - `y` indicates which character is responsible for the utterance. Each character has a corresponding number, e.g., 2 for Monica Geller; see dictionary below. \n",
    "    - `df_tfidf` is a dataframe combining `X` with other episode and utterance-level metadata."
   ]
  },
  {
   "cell_type": "code",
   "execution_count": 87,
   "id": "6e0aebac",
   "metadata": {
    "ExecuteTime": {
     "end_time": "2024-01-16T16:01:36.847366766Z",
     "start_time": "2024-01-16T16:01:35.386725197Z"
    }
   },
   "outputs": [
    {
     "name": "stdout",
     "output_type": "stream",
     "text": [
      "X shape (51312, 1000)\n",
      "y shape (51312,)\n"
     ]
    },
    {
     "data": {
      "text/plain": "          speaker  episode    0    1    2    3    4    5    6    7  ...  990  \\\n0   Monica Geller  s01_e01  0.0  0.0  0.0  0.0  0.0  0.0  0.0  0.0  ...  0.0   \n1  Joey Tribbiani  s01_e01  0.0  0.0  0.0  0.0  0.0  0.0  0.0  0.0  ...  0.0   \n2   Chandler Bing  s01_e01  0.0  0.0  0.0  0.0  0.0  0.0  0.0  0.0  ...  0.0   \n\n   991  992  993  994  995  996  997  998  999  \n0  0.0  0.0  0.0  0.0  0.0  0.0  0.0  0.0  0.0  \n1  0.0  0.0  0.0  0.0  0.0  0.0  0.0  0.0  0.0  \n2  0.0  0.0  0.0  0.0  0.0  0.0  0.0  0.0  0.0  \n\n[3 rows x 1002 columns]",
      "text/html": "<div>\n<style scoped>\n    .dataframe tbody tr th:only-of-type {\n        vertical-align: middle;\n    }\n\n    .dataframe tbody tr th {\n        vertical-align: top;\n    }\n\n    .dataframe thead th {\n        text-align: right;\n    }\n</style>\n<table border=\"1\" class=\"dataframe\">\n  <thead>\n    <tr style=\"text-align: right;\">\n      <th></th>\n      <th>speaker</th>\n      <th>episode</th>\n      <th>0</th>\n      <th>1</th>\n      <th>2</th>\n      <th>3</th>\n      <th>4</th>\n      <th>5</th>\n      <th>6</th>\n      <th>7</th>\n      <th>...</th>\n      <th>990</th>\n      <th>991</th>\n      <th>992</th>\n      <th>993</th>\n      <th>994</th>\n      <th>995</th>\n      <th>996</th>\n      <th>997</th>\n      <th>998</th>\n      <th>999</th>\n    </tr>\n  </thead>\n  <tbody>\n    <tr>\n      <th>0</th>\n      <td>Monica Geller</td>\n      <td>s01_e01</td>\n      <td>0.0</td>\n      <td>0.0</td>\n      <td>0.0</td>\n      <td>0.0</td>\n      <td>0.0</td>\n      <td>0.0</td>\n      <td>0.0</td>\n      <td>0.0</td>\n      <td>...</td>\n      <td>0.0</td>\n      <td>0.0</td>\n      <td>0.0</td>\n      <td>0.0</td>\n      <td>0.0</td>\n      <td>0.0</td>\n      <td>0.0</td>\n      <td>0.0</td>\n      <td>0.0</td>\n      <td>0.0</td>\n    </tr>\n    <tr>\n      <th>1</th>\n      <td>Joey Tribbiani</td>\n      <td>s01_e01</td>\n      <td>0.0</td>\n      <td>0.0</td>\n      <td>0.0</td>\n      <td>0.0</td>\n      <td>0.0</td>\n      <td>0.0</td>\n      <td>0.0</td>\n      <td>0.0</td>\n      <td>...</td>\n      <td>0.0</td>\n      <td>0.0</td>\n      <td>0.0</td>\n      <td>0.0</td>\n      <td>0.0</td>\n      <td>0.0</td>\n      <td>0.0</td>\n      <td>0.0</td>\n      <td>0.0</td>\n      <td>0.0</td>\n    </tr>\n    <tr>\n      <th>2</th>\n      <td>Chandler Bing</td>\n      <td>s01_e01</td>\n      <td>0.0</td>\n      <td>0.0</td>\n      <td>0.0</td>\n      <td>0.0</td>\n      <td>0.0</td>\n      <td>0.0</td>\n      <td>0.0</td>\n      <td>0.0</td>\n      <td>...</td>\n      <td>0.0</td>\n      <td>0.0</td>\n      <td>0.0</td>\n      <td>0.0</td>\n      <td>0.0</td>\n      <td>0.0</td>\n      <td>0.0</td>\n      <td>0.0</td>\n      <td>0.0</td>\n      <td>0.0</td>\n    </tr>\n  </tbody>\n</table>\n<p>3 rows × 1002 columns</p>\n</div>"
     },
     "execution_count": 87,
     "metadata": {},
     "output_type": "execute_result"
    }
   ],
   "source": [
    "from sklearn.feature_extraction.text import TfidfVectorizer\n",
    "df_tfidf = pd.read_json(\"./data/exam3.jsonl\", lines=True)[[\"speaker\", \"episode\", \"text\"]]\n",
    "\n",
    "vectorizer = TfidfVectorizer(max_features=1000, stop_words=\"english\")\n",
    "X = vectorizer.fit_transform(df_tfidf.text).toarray()\n",
    "print(\"X shape\", X.shape)\n",
    "\n",
    "\n",
    "map_char_to_int = {\n",
    "'Chandler Bing': 0,\n",
    "'Joey Tribbiani': 1,\n",
    "'Monica Geller': 2,\n",
    "'Phoebe Buffay': 3,\n",
    "'Rachel Green': 4,\n",
    "'Ross Geller': 5\n",
    "}\n",
    "\n",
    "\n",
    "y = df_tfidf.speaker.apply(lambda x: map_char_to_int[x]).values\n",
    "print(\"y shape\", y.shape)\n",
    "\n",
    "df_tfidf = pd.concat([df_tfidf[[\"speaker\", \"episode\"]],  pd.DataFrame(X)], axis=1)\n",
    "\n",
    "df_tfidf.head(3)"
   ]
  },
  {
   "cell_type": "markdown",
   "id": "15f01045",
   "metadata": {},
   "source": [
    "--- "
   ]
  },
  {
   "cell_type": "markdown",
   "id": "76d6b6f1",
   "metadata": {},
   "source": [
    "**2.2 —** To compare characters, carry out a classification task. Train a decision tree classifier to predict which main character uttered a sentence..\n",
    "\n",
    "A. Split the dataset into training and test sets using sklearn `sklearn.model_selection.train_test_split` using parameters `test_size=0.3` and `random_state=42`, and using the default values for all other parameters.\n",
    "\n",
    "B. Train a decision tree classifier (`sklearn.tree.DecisionTreeClassifier`) using `random_state=42`, leaving all other parameters as their default.\n",
    "\n",
    "C. Compute the accuracy of your classifier and of a random baseline, i.e., a classifier that predicts a character uniformly at random. **/Discuss:/** Compare the two accuracies.\n",
    "\n",
    "\n",
    "D. Compute the confusion matrix of your classifier using `sklearn.metrics.confusion_matrix`. Normalize the confusion matrix such that all cells sum to 1.\n",
    "\n",
    "E. Plot an appropriate graphical representation of the confusion matrix.\n",
    "\n",
    "F. **/Discuss:/** Analyzing the confusion matrix, discuss:\n",
    "   - Which character is most distinct in the way they talk?\n",
    "   - Which two characters are the most similar in the way they talk?\n",
    "   - Which two characters are the least similar in the way they talk?\n"
   ]
  },
  {
   "cell_type": "code",
   "execution_count": 96,
   "id": "03c8bf67",
   "metadata": {
    "ExecuteTime": {
     "end_time": "2024-01-16T16:11:43.683853822Z",
     "start_time": "2024-01-16T16:10:52.631135736Z"
    }
   },
   "outputs": [],
   "source": [
    "from sklearn.model_selection import train_test_split\n",
    "from sklearn.tree import DecisionTreeClassifier\n",
    "\n",
    "X_train, X_test, y_train, y_test = train_test_split(X, y, test_size=0.3, random_state=42)\n",
    "\n",
    "clf = DecisionTreeClassifier(random_state=42)\n",
    "clf.fit(X_train, y_train)\n",
    "\n",
    "y_pred = clf.predict(X_test)"
   ]
  },
  {
   "cell_type": "code",
   "outputs": [
    {
     "name": "stdout",
     "output_type": "stream",
     "text": [
      "Classifier accuracy: 0.23833961283616995\n",
      "Random accuracy: 0.16532415226711705\n"
     ]
    }
   ],
   "source": [
    "from sklearn.metrics import confusion_matrix, accuracy_score\n",
    "\n",
    "np.random.seed(42)\n",
    "y_pred_random = np.random.randint(0, 6, len(y_test))\n",
    "\n",
    "classifier_accuracy = accuracy_score(y_test, y_pred)\n",
    "random_accuracy = accuracy_score(y_test, y_pred_random)\n",
    "\n",
    "print(f\"Classifier accuracy: {classifier_accuracy}\")\n",
    "print(f\"Random accuracy: {random_accuracy}\")"
   ],
   "metadata": {
    "collapsed": false,
    "ExecuteTime": {
     "end_time": "2024-01-16T16:24:48.800822158Z",
     "start_time": "2024-01-16T16:24:48.763811846Z"
    }
   },
   "id": "aa6c472f97faff31",
   "execution_count": 125
  },
  {
   "cell_type": "markdown",
   "source": [
    "The accuracies of the random model is as expected approximately equal to $\\frac{1}{6}$. And the accuracy of our classifier is not very good, but already slightly better than a random model."
   ],
   "metadata": {
    "collapsed": false
   },
   "id": "85f3132b0a6aeb9d"
  },
  {
   "cell_type": "code",
   "outputs": [
    {
     "data": {
      "text/plain": "<Figure size 640x480 with 2 Axes>",
      "image/png": "[encoded data removed]"
     },
     "metadata": {},
     "output_type": "display_data"
    }
   ],
   "source": [
    "classifier_confusion_matrix = confusion_matrix(y_test, y_pred)\n",
    "\n",
    "normalized_confusion_matrix = (classifier_confusion_matrix + np.min(classifier_confusion_matrix)) / np.sum(classifier_confusion_matrix + np.min(classifier_confusion_matrix))\n",
    "\n",
    "sns.heatmap(normalized_confusion_matrix, annot=True)\n",
    "plt.title('Confusion matrix')\n",
    "plt.xlabel('Expected Class')\n",
    "plt.ylabel('Predicted Class')\n",
    "plt.show()"
   ],
   "metadata": {
    "collapsed": false,
    "ExecuteTime": {
     "end_time": "2024-01-16T16:28:47.840761829Z",
     "start_time": "2024-01-16T16:28:47.592823084Z"
    }
   },
   "id": "a9407187b7ee5f94",
   "execution_count": 135
  },
  {
   "cell_type": "markdown",
   "source": [
    "F\n",
    "- Monica is the most distinct as it is the one that is the most correctly predicted\n",
    "- Rachel and Ross are the two most similar in the way they talk\n",
    "- "
   ],
   "metadata": {
    "collapsed": false
   },
   "id": "afe27dc7c3fa348e"
  },
  {
   "cell_type": "markdown",
   "id": "1a158a88",
   "metadata": {},
   "source": [
    "---\n",
    "\n",
    "**2.3 —** **/Discuss:/** Last, you discuss the results obtained in **2.2** with a friend, who asks you some thought-provoking questions.\n",
    "\n",
    "A. Your friend proposes that you should create a measure of similarity between two characters in a given episode in a more direct way than what you've done in **2.2**.  Propose (but do not implement) said similarity metric.\n",
    "\n",
    "B. Your friend also suggests that your analysis might not truly capture how two characters differ. According to her, if people are in the same conversation, they might speak similarly simply because they are in the same social context. Propose (but do not implement) a way of creating a dataset where this confounder does not exist.\n",
    "\n",
    "C. Last, your friend complains about how you present your (normalized) confusion matrix. According to her, from reading the cells alone, it is unclear if the fraction of occurrences is higher or lower than what a random classifier would yield. Propose (but do not implement) a way of modifying the confusion matrix to address her concern.\n"
   ]
  },
  {
   "cell_type": "markdown",
   "id": "25c65d90",
   "metadata": {},
   "source": [
    "---"
   ]
  },
  {
   "cell_type": "markdown",
   "source": [
    "A: \n",
    "B:\n",
    "C: "
   ],
   "metadata": {
    "collapsed": false
   },
   "id": "78b51806a2917602"
  }
 ],
 "metadata": {
  "kernelspec": {
   "display_name": "Python 3 (ipykernel)",
   "language": "python",
   "name": "python3"
  },
  "language_info": {
   "codemirror_mode": {
    "name": "ipython",
    "version": 3
   },
   "file_extension": ".py",
   "mimetype": "text/x-python",
   "name": "python",
   "nbconvert_exporter": "python",
   "pygments_lexer": "ipython3",
   "version": "3.11.4"
  }
 },
 "nbformat": 4,
 "nbformat_minor": 5
}
