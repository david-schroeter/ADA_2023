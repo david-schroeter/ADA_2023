{
 "cells": [
  {
   "cell_type": "markdown",
   "metadata": {},
   "source": [
    "# Scaling up\n",
    "\n",
    "Originally released as part of a homework in ADA2019.\n",
    "\n",
    "## Description\n",
    "\n",
    "[Reddit](https://www.reddit.com/) aka *'the front page of the internet'* is a network of over a million *communities* aka *'subreddits'*, each of which covers a different topic based on people's interests. In other words, it is a *massive* collection of forums (corresponding to the aforementioned communities), where people can share content specific to a given topic or comment on other people’s posts.   \n",
    "\n",
    "You are reddit's community manager and want to *appoint new moderators*. Because moderating a specific subreddit isn't a full-time job, you want the chosen moderators to moderate multiple subreddits at the same time. To make this choice effective, the moderators shouldn't have to spend too much time getting to know the community and the prevalent communication style, so it makes sense to let moderators moderate subreddits that are similar in communication style and language. At the same time, it also makes sense to let them moderate subreddits that are similar with respect to the participating users, because this allows moderators to track the behavior of individual users over multiple subreddits. For example, some users might only post offensive content once a month on a given subreddit, and therefore fly under the radar with someone moderating only that subreddit. However, considering all the subreddits these users post to, they might post something offensive every day but on different subreddits. Thus, a moderator in charge of all these subreddits would be able to ban such users much more effectively. In the light of the above description, your task is to find out ways to choose moderators considering both the textual content and the users of a subreddit.\n",
    "\n",
    "### Dataset:\n",
    "The dataset provided to you includes all the posts of the 15 largest subreddits written as of May 2015.\n",
    "\n",
    "Reddit posts (provided to you via a [google drive folder](https://drive.google.com/a/epfl.ch/file/d/19SVHKbUTUPtC9HMmADJcAAIY1Xjq6WFv/view?usp=sharing))\n",
    "```\n",
    "reddit_posts\n",
    " |-- id: id of the post \n",
    " |-- author: user name of the author \n",
    " |-- body: text of the message\n",
    " |-- subreddit: name of the subreddit\n",
    "```\n",
    "\n",
    "Reddit scores (provided to you via a [google drive folder](https://drive.google.com/a/epfl.ch/file/d/1vr4PolJzTXr6ODSe3ucib5EAyp3rjxec/view?usp=sharing))\n",
    "```\n",
    "reddit_scores\n",
    " |-- id: id of the post \n",
    " |-- score: score computed as sum of UP/DOWN votes\n",
    "```\n",
    "\n",
    "*Note: Jaccard similarity between subreddits represented using either the set of top-1000 words or the set of users can be computed locally (on the driver), however, all the other tasks have to be implemented in Spark.*\n",
    "\n",
    "## B1. Getting a sense of the data\n",
    "\n",
    "Start a PySpark instance..."
   ]
  },
  {
   "cell_type": "code",
   "execution_count": 1,
   "metadata": {
    "ExecuteTime": {
     "end_time": "2024-01-02T16:34:29.754093279Z",
     "start_time": "2024-01-02T16:34:26.573210606Z"
    }
   },
   "outputs": [
    {
     "name": "stderr",
     "output_type": "stream",
     "text": [
      "24/01/02 17:34:27 WARN Utils: Your hostname, david-XPS-15-9570 resolves to a loopback address: 127.0.1.1; using 192.168.2.107 instead (on interface wlp59s0)\n",
      "24/01/02 17:34:27 WARN Utils: Set SPARK_LOCAL_IP if you need to bind to another address\n",
      "Setting default log level to \"WARN\".\n",
      "To adjust logging level use sc.setLogLevel(newLevel). For SparkR, use setLogLevel(newLevel).\n",
      "24/01/02 17:34:28 WARN NativeCodeLoader: Unable to load native-hadoop library for your platform... using builtin-java classes where applicable\n"
     ]
    },
    {
     "data": {
      "text/plain": "<pyspark.sql.session.SparkSession at 0x7fc8dd892640>",
      "text/html": "\n            <div>\n                <p><b>SparkSession - in-memory</b></p>\n                \n        <div>\n            <p><b>SparkContext</b></p>\n\n            <p><a href=\"http://192.168.2.107:4040\">Spark UI</a></p>\n\n            <dl>\n              <dt>Version</dt>\n                <dd><code>v3.5.0</code></dd>\n              <dt>Master</dt>\n                <dd><code>local[*]</code></dd>\n              <dt>AppName</dt>\n                <dd><code>pyspark-shell</code></dd>\n            </dl>\n        </div>\n        \n            </div>\n        "
     },
     "execution_count": 1,
     "metadata": {},
     "output_type": "execute_result"
    }
   ],
   "source": [
    "import pyspark\n",
    "import pyspark.sql\n",
    "from pyspark.sql import *\n",
    "from pyspark.sql.functions import *\n",
    "import numpy as np\n",
    "import pandas as pd\n",
    "\n",
    "conf = pyspark.SparkConf().setMaster(\"local[*]\").setAll([\n",
    "    ('spark.executor.memory', '12g'),  # find\n",
    "    ('spark.driver.memory', '4g'),  # your\n",
    "    ('spark.driver.maxResultSize', '2G')  # setup\n",
    "])\n",
    "# create the session\n",
    "spark = SparkSession.builder.config(conf=conf).getOrCreate()\n",
    "\n",
    "# create the context\n",
    "sc = spark.sparkContext\n",
    "\n",
    "# FIX for Spark 2.x\n",
    "locale = sc._jvm.java.util.Locale\n",
    "locale.setDefault(locale.forLanguageTag(\"en-US\"))\n",
    "\n",
    "spark"
   ]
  },
  {
   "cell_type": "markdown",
   "metadata": {},
   "source": [
    "... and load the data in a Spark dataframe."
   ]
  },
  {
   "cell_type": "code",
   "execution_count": 2,
   "metadata": {
    "collapsed": true,
    "jupyter": {
     "outputs_hidden": true
    },
    "ExecuteTime": {
     "end_time": "2024-01-02T16:37:05.824120894Z",
     "start_time": "2024-01-02T16:36:44.008756954Z"
    }
   },
   "outputs": [
    {
     "name": "stderr",
     "output_type": "stream",
     "text": [
      "                                                                                \r"
     ]
    }
   ],
   "source": [
    "messages = spark.read.json(\"messages.json.gz\")\n",
    "score = spark.read.json(\"score.json.gz\")"
   ]
  },
  {
   "cell_type": "code",
   "outputs": [
    {
     "name": "stdout",
     "output_type": "stream",
     "text": [
      "root\n",
      " |-- author: string (nullable = true)\n",
      " |-- body: string (nullable = true)\n",
      " |-- id: string (nullable = true)\n",
      " |-- subreddit: string (nullable = true)\n",
      "\n",
      "root\n",
      " |-- id: string (nullable = true)\n",
      " |-- score: long (nullable = true)\n"
     ]
    }
   ],
   "source": [
    "messages.printSchema()\n",
    "score.printSchema()"
   ],
   "metadata": {
    "collapsed": false,
    "ExecuteTime": {
     "end_time": "2024-01-02T16:39:25.849527065Z",
     "start_time": "2024-01-02T16:39:25.805361911Z"
    }
   },
   "execution_count": 7
  },
  {
   "cell_type": "markdown",
   "metadata": {},
   "source": [
    "### B1.1. Identify the most active subreddit\n",
    "\n",
    "Print the list of subreddits along with the following information:\n",
    "1. The total number of posts\n",
    "2. The number of users with at least 1 message\n",
    "3. The mean message length\n",
    "\n",
    "*Note: Keep everything in one single dataframe and print the list sorted by number of posts in descending order.*"
   ]
  },
  {
   "cell_type": "code",
   "execution_count": 39,
   "metadata": {
    "collapsed": true,
    "jupyter": {
     "outputs_hidden": true
    },
    "ExecuteTime": {
     "end_time": "2024-01-02T17:25:48.367825017Z",
     "start_time": "2024-01-02T17:25:48.301396990Z"
    }
   },
   "outputs": [
    {
     "data": {
      "text/plain": "DataFrame[subreddit: string, post_number: bigint, user_count: bigint, average_message_length: double, std_message_length: double]"
     },
     "execution_count": 39,
     "metadata": {},
     "output_type": "execute_result"
    }
   ],
   "source": [
    "messages_by_subreddit = messages \\\n",
    "    .groupby('subreddit') \\\n",
    "    .agg(count('*').alias('post_number'),\n",
    "         count_distinct('author').alias('user_count'),\n",
    "         avg(length('body')).alias('average_message_length'),\n",
    "         stddev(length('body')).alias('std_message_length')).sort(desc('post_number'))\n",
    "messages_by_subreddit.cache()"
   ]
  },
  {
   "cell_type": "markdown",
   "metadata": {},
   "source": [
    "### B1.2. Identify the largest subreddit\n",
    "\n",
    "Print *two* different lists of subreddits: ordered by (1) the number of posts, and (2) the number of users. For each subreddit, print the name and the corresponding counts.\n",
    "\n",
    "Additionally, (3) plot the mean of message length for each subreddit in descending order."
   ]
  },
  {
   "cell_type": "code",
   "execution_count": 40,
   "metadata": {
    "collapsed": true,
    "jupyter": {
     "outputs_hidden": true
    },
    "ExecuteTime": {
     "end_time": "2024-01-02T17:26:18.898963591Z",
     "start_time": "2024-01-02T17:25:50.027770258Z"
    }
   },
   "outputs": [
    {
     "name": "stderr",
     "output_type": "stream",
     "text": [
      "[Stage 250:>                                                        (0 + 1) / 1]\r"
     ]
    },
    {
     "name": "stdout",
     "output_type": "stream",
     "text": [
      "+---------------+-----------+\n",
      "|      subreddit|post_number|\n",
      "+---------------+-----------+\n",
      "|leagueoflegends|    1151287|\n",
      "|            nba|     704862|\n",
      "|          funny|     691139|\n",
      "|           pics|     564502|\n",
      "|            nfl|     534345|\n",
      "|         videos|     511492|\n",
      "|           news|     477658|\n",
      "| DestinyTheGame|     471160|\n",
      "|         soccer|     455215|\n",
      "|          DotA2|     445154|\n",
      "|      worldnews|     439417|\n",
      "|  AdviceAnimals|     411902|\n",
      "|         hockey|     389329|\n",
      "|GlobalOffensive|     382017|\n",
      "|         movies|     354601|\n",
      "+---------------+-----------+\n"
     ]
    },
    {
     "name": "stderr",
     "output_type": "stream",
     "text": [
      "                                                                                \r"
     ]
    }
   ],
   "source": [
    "messages_by_subreddit.orderBy(desc('post_number')).select('subreddit', 'post_number').show()"
   ]
  },
  {
   "cell_type": "code",
   "outputs": [
    {
     "name": "stdout",
     "output_type": "stream",
     "text": [
      "+---------------+----------+\n",
      "|      subreddit|user_count|\n",
      "+---------------+----------+\n",
      "|          funny|    224077|\n",
      "|           pics|    205305|\n",
      "|         videos|    157628|\n",
      "|leagueoflegends|    119321|\n",
      "|  AdviceAnimals|    115815|\n",
      "|      worldnews|     99261|\n",
      "|           news|     98736|\n",
      "|         movies|     92484|\n",
      "|GlobalOffensive|     46686|\n",
      "|            nba|     45034|\n",
      "|         soccer|     41648|\n",
      "|            nfl|     41593|\n",
      "|          DotA2|     41466|\n",
      "| DestinyTheGame|     37008|\n",
      "|         hockey|     25568|\n",
      "+---------------+----------+\n"
     ]
    }
   ],
   "source": [
    "messages_by_subreddit.orderBy(desc('user_count')).select('subreddit', 'user_count').show()"
   ],
   "metadata": {
    "collapsed": false,
    "ExecuteTime": {
     "end_time": "2024-01-02T17:26:18.900106018Z",
     "start_time": "2024-01-02T17:26:18.861198900Z"
    }
   },
   "execution_count": 41
  },
  {
   "cell_type": "code",
   "outputs": [
    {
     "data": {
      "text/plain": "<Figure size 640x480 with 1 Axes>",
      "image/png": "[encoded data removed]"
     },
     "metadata": {},
     "output_type": "display_data"
    }
   ],
   "source": [
    "import matplotlib.pyplot as plt\n",
    "import seaborn as sn\n",
    "import math\n",
    "dataframe_to_plot = messages_by_subreddit.orderBy(desc('average_message_length')).select('post_number', 'std_message_length','subreddit', 'average_message_length').toPandas()\n",
    "\n",
    "sqrt_N = dataframe_to_plot['post_number'].apply(lambda r: math.sqrt(r))\n",
    "s = dataframe_to_plot['std_message_length']\n",
    "\n",
    "dataframe_to_plot['ci'] = 2.576 * (s/sqrt_N)\n",
    "\n",
    "#sn.barplot(data=dataframe_to_plot, x='subreddit', y='average_message_length', yerr=dataframe_to_plot['ci'])#errorbar=lambda x: print(x))\n",
    "plt.barh(dataframe_to_plot.subreddit, dataframe_to_plot.average_message_length, xerr=dataframe_to_plot.ci)\n",
    "plt.show()"
   ],
   "metadata": {
    "collapsed": false,
    "ExecuteTime": {
     "end_time": "2024-01-02T19:00:42.484072683Z",
     "start_time": "2024-01-02T19:00:42.285756186Z"
    }
   },
   "execution_count": 89
  },
  {
   "cell_type": "markdown",
   "metadata": {},
   "source": [
    "### B1.3. Identify the subreddit with the highest average score\n",
    "\n",
    "Print the list of subreddits sorted by their average content scores."
   ]
  },
  {
   "cell_type": "code",
   "execution_count": 95,
   "metadata": {
    "collapsed": true,
    "jupyter": {
     "outputs_hidden": true
    },
    "ExecuteTime": {
     "end_time": "2024-01-02T19:09:15.488273633Z",
     "start_time": "2024-01-02T19:08:51.127824437Z"
    }
   },
   "outputs": [
    {
     "name": "stderr",
     "output_type": "stream",
     "text": [
      "24/01/02 20:08:51 WARN CacheManager: Asked to cache already cached data.\n",
      "[Stage 872:==================================================>    (12 + 1) / 13]\r"
     ]
    },
    {
     "name": "stdout",
     "output_type": "stream",
     "text": [
      "+---------------+------------------+\n",
      "|      subreddit|         avg_score|\n",
      "+---------------+------------------+\n",
      "|         videos|12.649445152612358|\n",
      "|           pics|12.216559020162904|\n",
      "|          funny|12.041505399058655|\n",
      "|  AdviceAnimals|11.251695791717447|\n",
      "|         soccer|10.634627593554693|\n",
      "|         movies|  9.82014997137628|\n",
      "|            nfl| 9.048348913155358|\n",
      "|            nba| 9.032795071943161|\n",
      "|           news| 8.673421150697779|\n",
      "|      worldnews|  7.86683719564787|\n",
      "|         hockey| 6.520120515039979|\n",
      "|leagueoflegends| 5.983557531701479|\n",
      "|          DotA2| 4.880537971129092|\n",
      "|GlobalOffensive| 4.351442475073099|\n",
      "| DestinyTheGame|3.0288819084811953|\n",
      "+---------------+------------------+\n"
     ]
    },
    {
     "name": "stderr",
     "output_type": "stream",
     "text": [
      "                                                                                \r"
     ]
    }
   ],
   "source": [
    "joined_with_score = messages.join(score, messages.id == score.id).groupby('subreddit').agg(avg('score').alias('avg_score')).sort(desc('avg_score')).cache()\n",
    "\n",
    "joined_with_score.show()"
   ]
  },
  {
   "cell_type": "markdown",
   "metadata": {},
   "source": [
    "## B2. Moderator assignment based on Subreddit Textual Content\n",
    "\n",
    "Different subreddits follow different communication styles inherent in the topic and the community. Having said that, the goal is to discover similar subreddits by only looking at the *words* present in the posted messages. Once such a list of similar subreddits is identified, an appropriately chosen moderator can then be assigned to all these subreddits.\n",
    "\n",
    "Specifically, the task boils down to computing a similarity score between two subreddits based on the *words* present in their textual content. Your first idea is to use the *Jaccard similarity*, which is defined as the size of the intersection of two sets divided by the size of their union.\n",
    "\n",
    "$Jaccard(A,B) = \\frac{|A \\cap B|}{|A \\cup B|}$"
   ]
  },
  {
   "cell_type": "code",
   "execution_count": 92,
   "metadata": {
    "ExecuteTime": {
     "end_time": "2024-01-02T19:03:04.149635225Z",
     "start_time": "2024-01-02T19:03:04.104852951Z"
    }
   },
   "outputs": [],
   "source": [
    "def jaccard_similarity(list1, list2):\n",
    "    s1 = set(list1)\n",
    "    s2 = set(list2)\n",
    "    return len(s1.intersection(s2)) / len(s1.union(s2))"
   ]
  },
  {
   "cell_type": "markdown",
   "metadata": {},
   "source": [
    "### B2.1.\n",
    "The first step requires constructing a set representation of each subreddit. The goal is to represent each subreddit as a *set of words* existing in the messages posted on that subreddit. Compute the 50,000 most frequent words across all the provided subreddits. Construct a representation for each subreddit by retaining only the words found in the previously identified set of 50,000 frequent words.\n",
    "\n",
    "Some rules:\n",
    " * Words are defined as tokens matching the regular expression `\\W`\n",
    " * Remove all the stop-words (English language)\n",
    "\n",
    "*Note: You might find the [RegexTokenizer](https://spark.apache.org/docs/2.2.0/ml-features.html#tokenizer) and the [StopWordsRemover](https://spark.apache.org/docs/2.2.0/ml-features.html#stopwordsremover) utilities available in the package pyspark.ml useful for this task as they help you in transforming the features and removing stopwords.*"
   ]
  },
  {
   "cell_type": "code",
   "execution_count": 101,
   "metadata": {
    "collapsed": true,
    "jupyter": {
     "outputs_hidden": true
    },
    "ExecuteTime": {
     "end_time": "2024-01-02T19:18:09.352546889Z",
     "start_time": "2024-01-02T19:18:09.218981435Z"
    }
   },
   "outputs": [
    {
     "name": "stdout",
     "output_type": "stream",
     "text": [
      "+-----------------+--------------------+-------+---------------+--------------------+--------------------+\n",
      "|           author|                body|     id|      subreddit|           all_words|               words|\n",
      "+-----------------+--------------------+-------+---------------+--------------------+--------------------+\n",
      "|        WyaOfWade|gg this one's ove...|cqug90h|            nba|[gg, this, one, s...|[gg, one, watch, ...|\n",
      "|        BEE_REAL_|Nihilum and LG ar...|cqug90p|GlobalOffensive|[nihilum, and, lg...|[nihilum, lg, sig...|\n",
      "|        SlowRolla|Me too. Same hamm...|cqug916|           pics|[me, too, same, h...|   [hammock, fabric]|\n",
      "|   SenpaiOniichan|well i think new ...|cqug919|leagueoflegends|[well, i, think, ...|[well, think, new...|\n",
      "|backwoodsofcanada|That's something ...|cqug91n|  AdviceAnimals|[that, s, somethi...|[something, hear,...|\n",
      "+-----------------+--------------------+-------+---------------+--------------------+--------------------+\n"
     ]
    },
    {
     "name": "stderr",
     "output_type": "stream",
     "text": [
      "                                                                                \r"
     ]
    }
   ],
   "source": [
    "from pyspark.ml.feature import RegexTokenizer, StopWordsRemover\n",
    "\n",
    "tokenizer = RegexTokenizer(inputCol='body', outputCol='all_words', pattern='\\\\W')\n",
    "messages_tokenized = tokenizer.transform(messages)\n",
    "\n",
    "stop_word_remover = StopWordsRemover(inputCol='all_words', outputCol='words')\n",
    "\n",
    "messages_tokenized = stop_word_remover.transform(messages_tokenized)\n",
    "\n",
    "messages_tokenized.show(5)"
   ]
  },
  {
   "cell_type": "code",
   "outputs": [
    {
     "name": "stderr",
     "output_type": "stream",
     "text": [
      "24/01/02 20:19:29 WARN MemoryStore: Not enough space to cache rdd_776_0 in memory! (computed 1662.4 MiB so far)\n",
      "24/01/02 20:19:30 WARN MemoryStore: Not enough space to cache rdd_776_0 in memory! (computed 1662.4 MiB so far)\n",
      "[Stage 895:>                                                        (0 + 1) / 1]\r"
     ]
    },
    {
     "name": "stdout",
     "output_type": "stream",
     "text": [
      "+------+-------+\n",
      "|  word|  total|\n",
      "+------+-------+\n",
      "|  like|1018978|\n",
      "|people| 745031|\n",
      "|   get| 691349|\n",
      "|   one| 682820|\n",
      "| think| 575352|\n",
      "|     m| 569057|\n",
      "|    re| 517827|\n",
      "|   com| 497303|\n",
      "|  time| 456060|\n",
      "|  good| 454768|\n",
      "|  game| 452376|\n",
      "|really| 451527|\n",
      "|  even| 432973|\n",
      "|  know| 413379|\n",
      "|    gt| 404776|\n",
      "|  http| 395552|\n",
      "|  well| 352021|\n",
      "|   see| 351081|\n",
      "|  much| 348304|\n",
      "|  also| 333478|\n",
      "+------+-------+\n"
     ]
    },
    {
     "name": "stderr",
     "output_type": "stream",
     "text": [
      "                                                                                \r"
     ]
    }
   ],
   "source": [
    "# get all words in a single dataframe\n",
    "all_words = messages_tokenized.select(explode(\"words\").alias(\"word\"))\n",
    "# group by, sort and limit to 50k \n",
    "top50k = all_words.groupBy(\"word\").agg(count(\"*\").alias(\"total\")).sort(col(\"total\").desc()).limit(50000)\n",
    "\n",
    "top50k.show()"
   ],
   "metadata": {
    "collapsed": false,
    "ExecuteTime": {
     "end_time": "2024-01-02T19:23:47.429200066Z",
     "start_time": "2024-01-02T19:19:17.431671177Z"
    }
   },
   "execution_count": 102
  },
  {
   "cell_type": "code",
   "outputs": [
    {
     "data": {
      "text/plain": "DataFrame[subreddit: string, word: string]"
     },
     "execution_count": 103,
     "metadata": {},
     "output_type": "execute_result"
    }
   ],
   "source": [
    "# Get all the words in a subreddit\n",
    "tokens = messages_tokenized.select(\"subreddit\", explode(\"words\").alias(\"word\")).distinct()\n",
    "# Join with the whitelist of the top 50k\n",
    "filtered_tokens = tokens.alias(\"t\").join(top50k, tokens.word==top50k.word).select(\"t.*\")\n",
    "\n",
    "filtered_tokens"
   ],
   "metadata": {
    "collapsed": false,
    "ExecuteTime": {
     "end_time": "2024-01-02T19:26:57.029463060Z",
     "start_time": "2024-01-02T19:26:56.985330896Z"
    }
   },
   "execution_count": 103
  },
  {
   "cell_type": "code",
   "outputs": [
    {
     "name": "stderr",
     "output_type": "stream",
     "text": [
      "                                                                                \r"
     ]
    }
   ],
   "source": [
    "subreddit_50k = filtered_tokens.rdd.map(lambda r: (r.subreddit, [r.word])).reduceByKey(lambda a,b: a+b).collect()"
   ],
   "metadata": {
    "collapsed": false,
    "ExecuteTime": {
     "end_time": "2024-01-02T19:32:21.965857946Z",
     "start_time": "2024-01-02T19:27:09.945154902Z"
    }
   },
   "execution_count": 104
  },
  {
   "cell_type": "code",
   "outputs": [
    {
     "name": "stdout",
     "output_type": "stream",
     "text": [
      "Subreddit: AdviceAnimals - Words: 40972\n",
      "Subreddit: movies - Words: 39371\n",
      "Subreddit: nfl - Words: 39116\n",
      "Subreddit: pics - Words: 42877\n",
      "Subreddit: worldnews - Words: 41846\n",
      "Subreddit: hockey - Words: 36150\n",
      "Subreddit: DotA2 - Words: 36878\n",
      "Subreddit: GlobalOffensive - Words: 34376\n",
      "Subreddit: news - Words: 41907\n",
      "Subreddit: funny - Words: 43324\n",
      "Subreddit: DestinyTheGame - Words: 35640\n",
      "Subreddit: nba - Words: 38228\n",
      "Subreddit: leagueoflegends - Words: 41986\n",
      "Subreddit: soccer - Words: 38188\n",
      "Subreddit: videos - Words: 43392\n"
     ]
    }
   ],
   "source": [
    "for sr in subreddit_50k:\n",
    "    print(\"Subreddit: {} - Words: {}\".format(sr[0], len(sr[1])))"
   ],
   "metadata": {
    "collapsed": false,
    "ExecuteTime": {
     "end_time": "2024-01-02T19:32:52.141507744Z",
     "start_time": "2024-01-02T19:32:52.095385527Z"
    }
   },
   "execution_count": 105
  },
  {
   "cell_type": "markdown",
   "metadata": {},
   "source": [
    "### B2.2.\n",
    "* Compute the Jaccard similarity between all the subreddits using the set representation obtained in step **B2.1.**, and plot in a heatmap the similarity values of all the pairs of subreddits.\n",
    "* Analyze this plot and discuss your observations. Do you observe that subreddits corresponding to similar topics possess higher Jaccard similarity?\n",
    "* Provide detailed interpretations of the obtained results. Specifically,\n",
    "    - Explain the limitations of your conclusions, and discuss the potential reasons.\n",
    "    - Explain the potential problems with the Jaccard similarity function."
   ]
  },
  {
   "cell_type": "code",
   "execution_count": null,
   "metadata": {
    "collapsed": true,
    "jupyter": {
     "outputs_hidden": true
    }
   },
   "outputs": [],
   "source": []
  },
  {
   "cell_type": "markdown",
   "metadata": {},
   "source": [
    "### B2.3.\n",
    "\n",
    "* Alternatively, compute the 1000 most frequent words for each subreddit, construct its representation as the set of top-1000 words, and print a heatmap with the Jaccard similarity like in step **B2.2.**.\n",
    "* Explain your observations in detail: how and why is this new result different from the one obtained in **B2.2.**?\n",
    "\n",
    "*Note: Use the same rules specified in B2.1: words tokenized with the regex \\W and stop-words removed*"
   ]
  },
  {
   "cell_type": "code",
   "execution_count": null,
   "metadata": {
    "collapsed": true,
    "jupyter": {
     "outputs_hidden": true
    }
   },
   "outputs": [],
   "source": []
  },
  {
   "cell_type": "markdown",
   "metadata": {},
   "source": [
    "## B3. Moderator assignment based on Subreddit Users\n",
    "\n",
    "Subreddits can be seen as communities of people interacting about a common topic. As an alternative to the *textual content* based similarity in **B2**, your task here is to validate if similarity between two subreddits can be measured based on their participating users.\n",
    "\n",
    "Of course users are not monothematic, and they interact with multiple subreddits. In this task, we are specifically interested in observing the amount of overlap across different subreddits based on their participating users. Similar to **B2**, the overlap is measured using the *Jaccard similarity*.\n",
    "\n",
    "\n",
    "### B3.1.\n",
    "Construct a set representation of each subreddit as the users that posted at least one time in that subreddit.\n",
    "\n",
    "Some users are very talkative and active across different topics. Print the username of the person that posted in the maximum number of subreddits. *Note that users who posted at least once in a subreddit are considered as participant of that subreddit.*"
   ]
  },
  {
   "cell_type": "code",
   "execution_count": null,
   "metadata": {
    "collapsed": true,
    "jupyter": {
     "outputs_hidden": true
    }
   },
   "outputs": [],
   "source": []
  },
  {
   "cell_type": "markdown",
   "metadata": {},
   "source": [
    "### B3.2.\n",
    "\n",
    "* Compute the Jaccard similarity between all the subreddits using the set representation obtained in step **B3.1.**, and visualise it similar to **B2**.\n",
    "* Analyze this plot, identify highly similar pairs of subreddits, and clearly describe your observations."
   ]
  },
  {
   "cell_type": "code",
   "execution_count": null,
   "metadata": {
    "collapsed": true,
    "jupyter": {
     "outputs_hidden": true
    }
   },
   "outputs": [],
   "source": []
  },
  {
   "cell_type": "markdown",
   "metadata": {},
   "source": [
    "## B4. Language vs. Users similarity\n",
    "    \n",
    "* Visualize the similarity scores based on word (**B2.3.**) and user (**B3**) similarity on the x and y axes respectively for the subreddit `NBA` compared to all the other subreddits. Do some semantically meaningful groups emerge? Provide clear explanataions of your observations.\n",
    "* Furthermore, do you observe differences in similarities between various sports-related subreddits in the dataset? Please provide explanations of the reasons behind these differences, if any!"
   ]
  },
  {
   "cell_type": "code",
   "execution_count": null,
   "metadata": {
    "collapsed": true,
    "jupyter": {
     "outputs_hidden": true
    }
   },
   "outputs": [],
   "source": []
  }
 ],
 "metadata": {
  "kernelspec": {
   "display_name": "Python 3 (ipykernel)",
   "language": "python",
   "name": "python3"
  },
  "language_info": {
   "codemirror_mode": {
    "name": "ipython",
    "version": 3
   },
   "file_extension": ".py",
   "mimetype": "text/x-python",
   "name": "python",
   "nbconvert_exporter": "python",
   "pygments_lexer": "ipython3",
   "version": "3.9.18"
  },
  "varInspector": {
   "cols": {
    "lenName": 16,
    "lenType": 16,
    "lenVar": 40
   },
   "kernels_config": {
    "python": {
     "delete_cmd_postfix": "",
     "delete_cmd_prefix": "del ",
     "library": "var_list.py",
     "varRefreshCmd": "print(var_dic_list())"
    },
    "r": {
     "delete_cmd_postfix": ") ",
     "delete_cmd_prefix": "rm(",
     "library": "var_list.r",
     "varRefreshCmd": "cat(var_dic_list()) "
    }
   },
   "types_to_exclude": [
    "module",
    "function",
    "builtin_function_or_method",
    "instance",
    "_Feature"
   ],
   "window_display": false
  }
 },
 "nbformat": 4,
 "nbformat_minor": 4
}
