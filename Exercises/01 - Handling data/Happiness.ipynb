{
 "cells": [
  {
   "cell_type": "markdown",
   "metadata": {},
   "source": [
    "## Data from World Happiness Report\n",
    "\n",
    "The World Happiness Report is an annual publication of the United Nations Sustainable Development Solutions Network. It contains articles, and rankings of national happiness based on respondent ratings of their own lives, which the report also correlates with various life factors.\n",
    "\n",
    "In this notebook we will explore the happiness of different countries and the features associated.\n",
    "The datasets that we will use are available in *Data*: **happiness2020.pkl** and **countries_info.csv**.\n",
    "\n",
    "Although the features are self-explanatory, here a summary: \n",
    "\n",
    "**happiness2020.pkl**\n",
    "* country: *Name of the country*\n",
    "* happiness_score: *Happiness score*\n",
    "* social_support: *Social support (mitigation the effects of inequality)*\n",
    "* healthy_life_expectancy: *Healthy Life Expectancy*\n",
    "* freedom_of_choices: *Freedom to make life choices*\n",
    "* generosity: *Generosity (charity, volunteers)*\n",
    "* perception_of_corruption: *Corruption Perception*\n",
    "* world_region: *Area of the world of the country*\n",
    "\n",
    "**countries_info.csv**\n",
    "* country_name: *Name of the country*\n",
    "* area: *Area in sq mi*\n",
    "* population: *Number of people*\n",
    "* literacy: *Literacy percentage*"
   ]
  },
  {
   "cell_type": "code",
   "execution_count": 1,
   "metadata": {
    "ExecuteTime": {
     "end_time": "2023-09-30T12:12:42.485717760Z",
     "start_time": "2023-09-30T12:12:41.870822390Z"
    }
   },
   "outputs": [
    {
     "name": "stdout",
     "output_type": "stream",
     "text": [
      "country_name,area,population,literacy\r\n",
      "afghanistan,647500,31056997,\"36,0\"\r\n",
      "albania,28748,3581655,\"86,5\"\r\n",
      "algeria,2381740,32930091,\"70,0\"\r\n",
      "argentina,2766890,39921833,\"97,1\"\r\n",
      "armenia,29800,2976372,\"98,6\"\r\n",
      "australia,7686850,20264082,\"100,0\"\r\n",
      "austria,83870,8192880,\"98,0\"\r\n",
      "azerbaijan,86600,7961619,\"97,0\"\r\n",
      "bahrain,665,698585,\"89,1\"\r\n"
     ]
    }
   ],
   "source": [
    "!head Data/countries_info.csv"
   ]
  },
  {
   "cell_type": "code",
   "execution_count": 2,
   "metadata": {
    "ExecuteTime": {
     "end_time": "2023-09-30T12:12:42.513238989Z",
     "start_time": "2023-09-30T12:12:42.498545622Z"
    }
   },
   "outputs": [],
   "source": [
    "import pandas as pd\n",
    "%matplotlib inline\n",
    "\n",
    "DATA_FOLDER = 'Data/'\n",
    "\n",
    "HAPPINESS_DATASET = DATA_FOLDER+\"happiness2020.pkl\"\n",
    "COUNTRIES_DATASET = DATA_FOLDER+\"countries_info.csv\""
   ]
  },
  {
   "cell_type": "markdown",
   "metadata": {},
   "source": [
    "## Task 1: Load the data\n",
    "\n",
    "Load the 2 datasets in Pandas dataframes (called *happiness* and *countries*), and show the first rows.\n",
    "\n",
    "\n",
    "**Hint**: Use the correct reader and verify the data has the expected format."
   ]
  },
  {
   "cell_type": "code",
   "execution_count": 3,
   "outputs": [
    {
     "data": {
      "text/plain": "             happiness_score  social_support  healthy_life_expectancy  \\\ncountry                                                                 \nafghanistan           2.5669        0.470367                52.590000   \nalbania               4.8827        0.671070                68.708138   \nalgeria               5.0051        0.803385                65.905174   \nargentina             5.9747        0.900568                68.803802   \narmenia               4.6768        0.757479                66.750656   \n\n             freedom_of_choices  generosity  perception_of_corruption  \\\ncountry                                                                 \nafghanistan            0.396573   -0.096429                  0.933687   \nalbania                0.781994   -0.042309                  0.896304   \nalgeria                0.466611   -0.121105                  0.735485   \nargentina              0.831132   -0.194914                  0.842010   \narmenia                0.712018   -0.138780                  0.773545   \n\n                                   world_region  \ncountry                                          \nafghanistan                          South Asia  \nalbania              Central and Eastern Europe  \nalgeria            Middle East and North Africa  \nargentina           Latin America and Caribbean  \narmenia      Commonwealth of Independent States  ",
      "text/html": "<div>\n<style scoped>\n    .dataframe tbody tr th:only-of-type {\n        vertical-align: middle;\n    }\n\n    .dataframe tbody tr th {\n        vertical-align: top;\n    }\n\n    .dataframe thead th {\n        text-align: right;\n    }\n</style>\n<table border=\"1\" class=\"dataframe\">\n  <thead>\n    <tr style=\"text-align: right;\">\n      <th></th>\n      <th>happiness_score</th>\n      <th>social_support</th>\n      <th>healthy_life_expectancy</th>\n      <th>freedom_of_choices</th>\n      <th>generosity</th>\n      <th>perception_of_corruption</th>\n      <th>world_region</th>\n    </tr>\n    <tr>\n      <th>country</th>\n      <th></th>\n      <th></th>\n      <th></th>\n      <th></th>\n      <th></th>\n      <th></th>\n      <th></th>\n    </tr>\n  </thead>\n  <tbody>\n    <tr>\n      <th>afghanistan</th>\n      <td>2.5669</td>\n      <td>0.470367</td>\n      <td>52.590000</td>\n      <td>0.396573</td>\n      <td>-0.096429</td>\n      <td>0.933687</td>\n      <td>South Asia</td>\n    </tr>\n    <tr>\n      <th>albania</th>\n      <td>4.8827</td>\n      <td>0.671070</td>\n      <td>68.708138</td>\n      <td>0.781994</td>\n      <td>-0.042309</td>\n      <td>0.896304</td>\n      <td>Central and Eastern Europe</td>\n    </tr>\n    <tr>\n      <th>algeria</th>\n      <td>5.0051</td>\n      <td>0.803385</td>\n      <td>65.905174</td>\n      <td>0.466611</td>\n      <td>-0.121105</td>\n      <td>0.735485</td>\n      <td>Middle East and North Africa</td>\n    </tr>\n    <tr>\n      <th>argentina</th>\n      <td>5.9747</td>\n      <td>0.900568</td>\n      <td>68.803802</td>\n      <td>0.831132</td>\n      <td>-0.194914</td>\n      <td>0.842010</td>\n      <td>Latin America and Caribbean</td>\n    </tr>\n    <tr>\n      <th>armenia</th>\n      <td>4.6768</td>\n      <td>0.757479</td>\n      <td>66.750656</td>\n      <td>0.712018</td>\n      <td>-0.138780</td>\n      <td>0.773545</td>\n      <td>Commonwealth of Independent States</td>\n    </tr>\n  </tbody>\n</table>\n</div>"
     },
     "execution_count": 3,
     "metadata": {},
     "output_type": "execute_result"
    }
   ],
   "source": [
    "happiness: pd.DataFrame = pd.read_pickle(HAPPINESS_DATASET)\n",
    "happiness.country = happiness.country.map(str.lower) # Set the country to lower case\n",
    "happiness.set_index('country', inplace=True) # Use country as the index\n",
    "happiness.head()"
   ],
   "metadata": {
    "collapsed": false,
    "ExecuteTime": {
     "end_time": "2023-09-30T12:12:42.563286151Z",
     "start_time": "2023-09-30T12:12:42.508875889Z"
    }
   }
  },
  {
   "cell_type": "code",
   "execution_count": 4,
   "outputs": [
    {
     "data": {
      "text/plain": "                 area  population  literacy\ncountry_name                               \nafghanistan    647500    31056997      36.0\nalbania         28748     3581655      86.5\nalgeria       2381740    32930091      70.0\nargentina     2766890    39921833      97.1\narmenia         29800     2976372      98.6",
      "text/html": "<div>\n<style scoped>\n    .dataframe tbody tr th:only-of-type {\n        vertical-align: middle;\n    }\n\n    .dataframe tbody tr th {\n        vertical-align: top;\n    }\n\n    .dataframe thead th {\n        text-align: right;\n    }\n</style>\n<table border=\"1\" class=\"dataframe\">\n  <thead>\n    <tr style=\"text-align: right;\">\n      <th></th>\n      <th>area</th>\n      <th>population</th>\n      <th>literacy</th>\n    </tr>\n    <tr>\n      <th>country_name</th>\n      <th></th>\n      <th></th>\n      <th></th>\n    </tr>\n  </thead>\n  <tbody>\n    <tr>\n      <th>afghanistan</th>\n      <td>647500</td>\n      <td>31056997</td>\n      <td>36.0</td>\n    </tr>\n    <tr>\n      <th>albania</th>\n      <td>28748</td>\n      <td>3581655</td>\n      <td>86.5</td>\n    </tr>\n    <tr>\n      <th>algeria</th>\n      <td>2381740</td>\n      <td>32930091</td>\n      <td>70.0</td>\n    </tr>\n    <tr>\n      <th>argentina</th>\n      <td>2766890</td>\n      <td>39921833</td>\n      <td>97.1</td>\n    </tr>\n    <tr>\n      <th>armenia</th>\n      <td>29800</td>\n      <td>2976372</td>\n      <td>98.6</td>\n    </tr>\n  </tbody>\n</table>\n</div>"
     },
     "execution_count": 4,
     "metadata": {},
     "output_type": "execute_result"
    }
   ],
   "source": [
    "# Write your code here\n",
    "countries = pd.read_csv(COUNTRIES_DATASET, index_col='country_name')\n",
    "countries.literacy = countries.literacy.str.replace(',','.')\n",
    "countries.literacy = countries.literacy.astype(float) #convert literacy to float to be able to compare them\n",
    "countries.head()"
   ],
   "metadata": {
    "collapsed": false,
    "ExecuteTime": {
     "end_time": "2023-09-30T12:12:42.596407140Z",
     "start_time": "2023-09-30T12:12:42.554691968Z"
    }
   }
  },
  {
   "cell_type": "markdown",
   "metadata": {},
   "source": [
    "## Task 2: Let's merge the data\n",
    "\n",
    "Create a dataframe called *country_features* by merging *happiness* and *countries*. A row of this dataframe must describe all the features that we have about a country.\n",
    "\n",
    "**Hint**: Verify that all the rows are in the final dataframe."
   ]
  },
  {
   "cell_type": "code",
   "execution_count": 5,
   "metadata": {
    "ExecuteTime": {
     "end_time": "2023-09-30T12:12:42.734800711Z",
     "start_time": "2023-09-30T12:12:42.586646404Z"
    }
   },
   "outputs": [
    {
     "data": {
      "text/plain": "             happiness_score  social_support  healthy_life_expectancy  \\\ncountry                                                                 \nafghanistan           2.5669        0.470367                52.590000   \nalbania               4.8827        0.671070                68.708138   \nalgeria               5.0051        0.803385                65.905174   \nargentina             5.9747        0.900568                68.803802   \narmenia               4.6768        0.757479                66.750656   \n\n             freedom_of_choices  generosity  perception_of_corruption  \\\ncountry                                                                 \nafghanistan            0.396573   -0.096429                  0.933687   \nalbania                0.781994   -0.042309                  0.896304   \nalgeria                0.466611   -0.121105                  0.735485   \nargentina              0.831132   -0.194914                  0.842010   \narmenia                0.712018   -0.138780                  0.773545   \n\n                                   world_region     area  population  literacy  \ncountry                                                                         \nafghanistan                          South Asia   647500    31056997      36.0  \nalbania              Central and Eastern Europe    28748     3581655      86.5  \nalgeria            Middle East and North Africa  2381740    32930091      70.0  \nargentina           Latin America and Caribbean  2766890    39921833      97.1  \narmenia      Commonwealth of Independent States    29800     2976372      98.6  ",
      "text/html": "<div>\n<style scoped>\n    .dataframe tbody tr th:only-of-type {\n        vertical-align: middle;\n    }\n\n    .dataframe tbody tr th {\n        vertical-align: top;\n    }\n\n    .dataframe thead th {\n        text-align: right;\n    }\n</style>\n<table border=\"1\" class=\"dataframe\">\n  <thead>\n    <tr style=\"text-align: right;\">\n      <th></th>\n      <th>happiness_score</th>\n      <th>social_support</th>\n      <th>healthy_life_expectancy</th>\n      <th>freedom_of_choices</th>\n      <th>generosity</th>\n      <th>perception_of_corruption</th>\n      <th>world_region</th>\n      <th>area</th>\n      <th>population</th>\n      <th>literacy</th>\n    </tr>\n    <tr>\n      <th>country</th>\n      <th></th>\n      <th></th>\n      <th></th>\n      <th></th>\n      <th></th>\n      <th></th>\n      <th></th>\n      <th></th>\n      <th></th>\n      <th></th>\n    </tr>\n  </thead>\n  <tbody>\n    <tr>\n      <th>afghanistan</th>\n      <td>2.5669</td>\n      <td>0.470367</td>\n      <td>52.590000</td>\n      <td>0.396573</td>\n      <td>-0.096429</td>\n      <td>0.933687</td>\n      <td>South Asia</td>\n      <td>647500</td>\n      <td>31056997</td>\n      <td>36.0</td>\n    </tr>\n    <tr>\n      <th>albania</th>\n      <td>4.8827</td>\n      <td>0.671070</td>\n      <td>68.708138</td>\n      <td>0.781994</td>\n      <td>-0.042309</td>\n      <td>0.896304</td>\n      <td>Central and Eastern Europe</td>\n      <td>28748</td>\n      <td>3581655</td>\n      <td>86.5</td>\n    </tr>\n    <tr>\n      <th>algeria</th>\n      <td>5.0051</td>\n      <td>0.803385</td>\n      <td>65.905174</td>\n      <td>0.466611</td>\n      <td>-0.121105</td>\n      <td>0.735485</td>\n      <td>Middle East and North Africa</td>\n      <td>2381740</td>\n      <td>32930091</td>\n      <td>70.0</td>\n    </tr>\n    <tr>\n      <th>argentina</th>\n      <td>5.9747</td>\n      <td>0.900568</td>\n      <td>68.803802</td>\n      <td>0.831132</td>\n      <td>-0.194914</td>\n      <td>0.842010</td>\n      <td>Latin America and Caribbean</td>\n      <td>2766890</td>\n      <td>39921833</td>\n      <td>97.1</td>\n    </tr>\n    <tr>\n      <th>armenia</th>\n      <td>4.6768</td>\n      <td>0.757479</td>\n      <td>66.750656</td>\n      <td>0.712018</td>\n      <td>-0.138780</td>\n      <td>0.773545</td>\n      <td>Commonwealth of Independent States</td>\n      <td>29800</td>\n      <td>2976372</td>\n      <td>98.6</td>\n    </tr>\n  </tbody>\n</table>\n</div>"
     },
     "execution_count": 5,
     "metadata": {},
     "output_type": "execute_result"
    }
   ],
   "source": [
    "# Write your code here\n",
    "happiness_countries = happiness.merge(countries, left_index=True, right_index=True)\n",
    "happiness_countries.head()"
   ]
  },
  {
   "cell_type": "markdown",
   "metadata": {},
   "source": [
    "## Task 3: Where are people happier?\n",
    "\n",
    "Print the top 10 countries based on their happiness score (higher is better)."
   ]
  },
  {
   "cell_type": "code",
   "execution_count": 6,
   "metadata": {
    "ExecuteTime": {
     "end_time": "2023-09-30T12:12:42.735786515Z",
     "start_time": "2023-09-30T12:12:42.627185116Z"
    }
   },
   "outputs": [
    {
     "data": {
      "text/plain": "             happiness_score  social_support  healthy_life_expectancy  \\\ncountry                                                                 \nfinland               7.8087        0.954330                71.900825   \ndenmark               7.6456        0.955991                72.402504   \nswitzerland           7.5599        0.942847                74.102448   \niceland               7.5045        0.974670                73.000000   \nnorway                7.4880        0.952487                73.200783   \nnetherlands           7.4489        0.939139                72.300919   \nsweden                7.3535        0.926311                72.600769   \nnew zealand           7.2996        0.949119                73.202629   \naustria               7.2942        0.928046                73.002502   \nluxembourg            7.2375        0.906912                72.599998   \n\n             freedom_of_choices  generosity  perception_of_corruption  \\\ncountry                                                                 \nfinland                0.949172   -0.059482                  0.195445   \ndenmark                0.951444    0.066202                  0.168489   \nswitzerland            0.921337    0.105911                  0.303728   \niceland                0.948892    0.246944                  0.711710   \nnorway                 0.955750    0.134533                  0.263218   \nnetherlands            0.908548    0.207612                  0.364717   \nsweden                 0.939144    0.111615                  0.250880   \nnew zealand            0.936217    0.191598                  0.221139   \naustria                0.899989    0.085429                  0.499955   \nluxembourg             0.905636   -0.004621                  0.367084   \n\n                      world_region    area  population  literacy  \ncountry                                                           \nfinland             Western Europe  338145     5231372     100.0  \ndenmark             Western Europe   43094     5450661     100.0  \nswitzerland         Western Europe   41290     7523934      99.0  \niceland             Western Europe  103000      299388      99.9  \nnorway              Western Europe  323802     4610820     100.0  \nnetherlands         Western Europe   41526    16491461      99.0  \nsweden              Western Europe  449964     9016596      99.0  \nnew zealand  North America and ANZ  268680     4076140      99.0  \naustria             Western Europe   83870     8192880      98.0  \nluxembourg          Western Europe    2586      474413     100.0  ",
      "text/html": "<div>\n<style scoped>\n    .dataframe tbody tr th:only-of-type {\n        vertical-align: middle;\n    }\n\n    .dataframe tbody tr th {\n        vertical-align: top;\n    }\n\n    .dataframe thead th {\n        text-align: right;\n    }\n</style>\n<table border=\"1\" class=\"dataframe\">\n  <thead>\n    <tr style=\"text-align: right;\">\n      <th></th>\n      <th>happiness_score</th>\n      <th>social_support</th>\n      <th>healthy_life_expectancy</th>\n      <th>freedom_of_choices</th>\n      <th>generosity</th>\n      <th>perception_of_corruption</th>\n      <th>world_region</th>\n      <th>area</th>\n      <th>population</th>\n      <th>literacy</th>\n    </tr>\n    <tr>\n      <th>country</th>\n      <th></th>\n      <th></th>\n      <th></th>\n      <th></th>\n      <th></th>\n      <th></th>\n      <th></th>\n      <th></th>\n      <th></th>\n      <th></th>\n    </tr>\n  </thead>\n  <tbody>\n    <tr>\n      <th>finland</th>\n      <td>7.8087</td>\n      <td>0.954330</td>\n      <td>71.900825</td>\n      <td>0.949172</td>\n      <td>-0.059482</td>\n      <td>0.195445</td>\n      <td>Western Europe</td>\n      <td>338145</td>\n      <td>5231372</td>\n      <td>100.0</td>\n    </tr>\n    <tr>\n      <th>denmark</th>\n      <td>7.6456</td>\n      <td>0.955991</td>\n      <td>72.402504</td>\n      <td>0.951444</td>\n      <td>0.066202</td>\n      <td>0.168489</td>\n      <td>Western Europe</td>\n      <td>43094</td>\n      <td>5450661</td>\n      <td>100.0</td>\n    </tr>\n    <tr>\n      <th>switzerland</th>\n      <td>7.5599</td>\n      <td>0.942847</td>\n      <td>74.102448</td>\n      <td>0.921337</td>\n      <td>0.105911</td>\n      <td>0.303728</td>\n      <td>Western Europe</td>\n      <td>41290</td>\n      <td>7523934</td>\n      <td>99.0</td>\n    </tr>\n    <tr>\n      <th>iceland</th>\n      <td>7.5045</td>\n      <td>0.974670</td>\n      <td>73.000000</td>\n      <td>0.948892</td>\n      <td>0.246944</td>\n      <td>0.711710</td>\n      <td>Western Europe</td>\n      <td>103000</td>\n      <td>299388</td>\n      <td>99.9</td>\n    </tr>\n    <tr>\n      <th>norway</th>\n      <td>7.4880</td>\n      <td>0.952487</td>\n      <td>73.200783</td>\n      <td>0.955750</td>\n      <td>0.134533</td>\n      <td>0.263218</td>\n      <td>Western Europe</td>\n      <td>323802</td>\n      <td>4610820</td>\n      <td>100.0</td>\n    </tr>\n    <tr>\n      <th>netherlands</th>\n      <td>7.4489</td>\n      <td>0.939139</td>\n      <td>72.300919</td>\n      <td>0.908548</td>\n      <td>0.207612</td>\n      <td>0.364717</td>\n      <td>Western Europe</td>\n      <td>41526</td>\n      <td>16491461</td>\n      <td>99.0</td>\n    </tr>\n    <tr>\n      <th>sweden</th>\n      <td>7.3535</td>\n      <td>0.926311</td>\n      <td>72.600769</td>\n      <td>0.939144</td>\n      <td>0.111615</td>\n      <td>0.250880</td>\n      <td>Western Europe</td>\n      <td>449964</td>\n      <td>9016596</td>\n      <td>99.0</td>\n    </tr>\n    <tr>\n      <th>new zealand</th>\n      <td>7.2996</td>\n      <td>0.949119</td>\n      <td>73.202629</td>\n      <td>0.936217</td>\n      <td>0.191598</td>\n      <td>0.221139</td>\n      <td>North America and ANZ</td>\n      <td>268680</td>\n      <td>4076140</td>\n      <td>99.0</td>\n    </tr>\n    <tr>\n      <th>austria</th>\n      <td>7.2942</td>\n      <td>0.928046</td>\n      <td>73.002502</td>\n      <td>0.899989</td>\n      <td>0.085429</td>\n      <td>0.499955</td>\n      <td>Western Europe</td>\n      <td>83870</td>\n      <td>8192880</td>\n      <td>98.0</td>\n    </tr>\n    <tr>\n      <th>luxembourg</th>\n      <td>7.2375</td>\n      <td>0.906912</td>\n      <td>72.599998</td>\n      <td>0.905636</td>\n      <td>-0.004621</td>\n      <td>0.367084</td>\n      <td>Western Europe</td>\n      <td>2586</td>\n      <td>474413</td>\n      <td>100.0</td>\n    </tr>\n  </tbody>\n</table>\n</div>"
     },
     "execution_count": 6,
     "metadata": {},
     "output_type": "execute_result"
    }
   ],
   "source": [
    "# Write your code here\n",
    "happiness_countries.nlargest(10, 'happiness_score', keep='all')"
   ]
  },
  {
   "cell_type": "markdown",
   "metadata": {},
   "source": [
    "We are interested to know in what world region people are happier. \n",
    "\n",
    "Create and print a dataframe with the (1) average happiness score and (2) the number of contries for each world region.\n",
    "Sort the result to show the happiness ranking."
   ]
  },
  {
   "cell_type": "code",
   "execution_count": 7,
   "metadata": {
    "ExecuteTime": {
     "end_time": "2023-09-30T12:12:42.737811484Z",
     "start_time": "2023-09-30T12:12:42.627380586Z"
    }
   },
   "outputs": [
    {
     "data": {
      "text/plain": "                                    average happiness  nb countries\nworld_region                                                       \nNorth America and ANZ                        7.173525             4\nWestern Europe                               6.967405            20\nLatin America and Caribbean                  5.971280            20\nCentral and Eastern Europe                   5.891393            14\nSoutheast Asia                               5.517788             8\nEast Asia                                    5.483633             3\nCommonwealth of Independent States           5.358342            12\nMiddle East and North Africa                 5.269306            16\nSub-Saharan Africa                           4.393856            32\nSouth Asia                                   4.355083             6",
      "text/html": "<div>\n<style scoped>\n    .dataframe tbody tr th:only-of-type {\n        vertical-align: middle;\n    }\n\n    .dataframe tbody tr th {\n        vertical-align: top;\n    }\n\n    .dataframe thead th {\n        text-align: right;\n    }\n</style>\n<table border=\"1\" class=\"dataframe\">\n  <thead>\n    <tr style=\"text-align: right;\">\n      <th></th>\n      <th>average happiness</th>\n      <th>nb countries</th>\n    </tr>\n    <tr>\n      <th>world_region</th>\n      <th></th>\n      <th></th>\n    </tr>\n  </thead>\n  <tbody>\n    <tr>\n      <th>North America and ANZ</th>\n      <td>7.173525</td>\n      <td>4</td>\n    </tr>\n    <tr>\n      <th>Western Europe</th>\n      <td>6.967405</td>\n      <td>20</td>\n    </tr>\n    <tr>\n      <th>Latin America and Caribbean</th>\n      <td>5.971280</td>\n      <td>20</td>\n    </tr>\n    <tr>\n      <th>Central and Eastern Europe</th>\n      <td>5.891393</td>\n      <td>14</td>\n    </tr>\n    <tr>\n      <th>Southeast Asia</th>\n      <td>5.517788</td>\n      <td>8</td>\n    </tr>\n    <tr>\n      <th>East Asia</th>\n      <td>5.483633</td>\n      <td>3</td>\n    </tr>\n    <tr>\n      <th>Commonwealth of Independent States</th>\n      <td>5.358342</td>\n      <td>12</td>\n    </tr>\n    <tr>\n      <th>Middle East and North Africa</th>\n      <td>5.269306</td>\n      <td>16</td>\n    </tr>\n    <tr>\n      <th>Sub-Saharan Africa</th>\n      <td>4.393856</td>\n      <td>32</td>\n    </tr>\n    <tr>\n      <th>South Asia</th>\n      <td>4.355083</td>\n      <td>6</td>\n    </tr>\n  </tbody>\n</table>\n</div>"
     },
     "execution_count": 7,
     "metadata": {},
     "output_type": "execute_result"
    }
   ],
   "source": [
    "# Write your code here\n",
    "by_countries = happiness_countries.groupby(happiness_countries.world_region)\n",
    "ordered_world_region = by_countries['happiness_score'].aggregate(['mean', 'count']).sort_values('mean', ascending=False).rename(columns={'mean': 'average happiness', 'count': 'nb countries'})\n",
    "ordered_world_region"
   ]
  },
  {
   "cell_type": "markdown",
   "metadata": {},
   "source": [
    "The first region has only a few countries! What are them and what is their score?"
   ]
  },
  {
   "cell_type": "code",
   "execution_count": 8,
   "metadata": {
    "ExecuteTime": {
     "end_time": "2023-09-30T12:12:42.738093365Z",
     "start_time": "2023-09-30T12:12:42.675127113Z"
    }
   },
   "outputs": [
    {
     "data": {
      "text/plain": "country\naustralia        7.2228\ncanada           7.2321\nnew zealand      7.2996\nunited states    6.9396\nName: happiness_score, dtype: float64"
     },
     "execution_count": 8,
     "metadata": {},
     "output_type": "execute_result"
    }
   ],
   "source": [
    "# Write your code here\n",
    "fst_world_region = ordered_world_region.index[0]\n",
    "by_countries.get_group(fst_world_region).happiness_score"
   ]
  },
  {
   "cell_type": "markdown",
   "metadata": {},
   "source": [
    "## Task 4: How literate is the world?\n",
    "\n",
    "Print the names of the countries with a level of literacy of 100%. \n",
    "\n",
    "For each country, print the name and the world region in the format: *{region name} - {country name} ({happiness score})*"
   ]
  },
  {
   "cell_type": "code",
   "execution_count": 9,
   "metadata": {
    "ExecuteTime": {
     "end_time": "2023-09-30T12:12:42.738303611Z",
     "start_time": "2023-09-30T12:12:42.675238464Z"
    }
   },
   "outputs": [
    {
     "name": "stdout",
     "output_type": "stream",
     "text": [
      "North America and ANZ - australia (7.222799778)\n",
      "Western Europe - denmark (7.645599842)\n",
      "Western Europe - finland (7.808700085)\n",
      "Western Europe - luxembourg (7.2375001910000005)\n",
      "Western Europe - norway (7.487999916000001)\n"
     ]
    }
   ],
   "source": [
    "# Write your code here\n",
    "max_literacy = happiness_countries[happiness_countries['literacy'].apply(lambda x: x == 100.0)]\n",
    "max_literacy_v2 = happiness_countries.query('literacy == 100.0') # Same output, but easier to read\n",
    "for x, y in max_literacy.iterrows():\n",
    "    print(('%s - %s (%s)' % (y['world_region'], x, y['happiness_score'])))\n"
   ]
  },
  {
   "cell_type": "markdown",
   "metadata": {},
   "source": [
    "What is the global average?"
   ]
  },
  {
   "cell_type": "code",
   "execution_count": 10,
   "metadata": {
    "ExecuteTime": {
     "end_time": "2023-09-30T12:12:42.738510814Z",
     "start_time": "2023-09-30T12:12:42.675310872Z"
    }
   },
   "outputs": [
    {
     "data": {
      "text/plain": "81.85112781954888"
     },
     "execution_count": 10,
     "metadata": {},
     "output_type": "execute_result"
    }
   ],
   "source": [
    "# Write your code here\n",
    "happiness_countries.literacy.mean()"
   ]
  },
  {
   "cell_type": "markdown",
   "metadata": {},
   "source": [
    "Calculate the proportion of countries with a literacy level below 50%. Print the value in percentage, formatted with 2 decimals."
   ]
  },
  {
   "cell_type": "code",
   "execution_count": 11,
   "metadata": {
    "ExecuteTime": {
     "end_time": "2023-09-30T12:12:42.738719655Z",
     "start_time": "2023-09-30T12:12:42.675372164Z"
    }
   },
   "outputs": [
    {
     "name": "stdout",
     "output_type": "stream",
     "text": [
      "11.85% of the countries have a literacy level below 50%\n"
     ]
    }
   ],
   "source": [
    "# Write your code here\n",
    "low_literacy = happiness_countries.loc[happiness_countries.literacy < 50]\n",
    "print('%.2f%% of the countries have a literacy level below 50%%' % (low_literacy.shape[0]/happiness_countries.shape[0]*100))"
   ]
  },
  {
   "cell_type": "markdown",
   "metadata": {},
   "source": [
    "Print the raw number and the percentage of world population that is illiterate."
   ]
  },
  {
   "cell_type": "code",
   "execution_count": 12,
   "metadata": {
    "ExecuteTime": {
     "end_time": "2023-09-30T12:12:42.833036760Z",
     "start_time": "2023-09-30T12:12:42.689503539Z"
    }
   },
   "outputs": [
    {
     "name": "stdout",
     "output_type": "stream",
     "text": [
      "The number of illiterate people is 580572946, and the percentage that it represents is 9.45%\n"
     ]
    }
   ],
   "source": [
    "# Write your code here\n",
    "low_literacy_pop = low_literacy.population.sum()\n",
    "print('The number of illiterate people is %i, and the percentage that it represents is %.2f%%' %(low_literacy_pop, low_literacy_pop/happiness_countries.population.sum()*100))"
   ]
  },
  {
   "cell_type": "markdown",
   "metadata": {},
   "source": [
    "## Task 5: Population density\n",
    "\n",
    "Add to the dataframe a new field called *population_density* computed by dividing *population* by *area*."
   ]
  },
  {
   "cell_type": "code",
   "execution_count": 13,
   "metadata": {
    "ExecuteTime": {
     "end_time": "2023-09-30T12:12:42.834714951Z",
     "start_time": "2023-09-30T12:12:42.731128456Z"
    }
   },
   "outputs": [
    {
     "data": {
      "text/plain": "             happiness_score  social_support  healthy_life_expectancy  \\\ncountry                                                                 \nafghanistan           2.5669        0.470367                52.590000   \nalbania               4.8827        0.671070                68.708138   \nalgeria               5.0051        0.803385                65.905174   \nargentina             5.9747        0.900568                68.803802   \narmenia               4.6768        0.757479                66.750656   \n...                      ...             ...                      ...   \nvenezuela             5.0532        0.890408                66.505341   \nvietnam               5.3535        0.849987                67.952736   \nyemen                 3.5274        0.817981                56.727283   \nzambia                3.7594        0.698824                55.299377   \nzimbabwe              3.2992        0.763093                55.617260   \n\n             freedom_of_choices  generosity  perception_of_corruption  \\\ncountry                                                                 \nafghanistan            0.396573   -0.096429                  0.933687   \nalbania                0.781994   -0.042309                  0.896304   \nalgeria                0.466611   -0.121105                  0.735485   \nargentina              0.831132   -0.194914                  0.842010   \narmenia                0.712018   -0.138780                  0.773545   \n...                         ...         ...                       ...   \nvenezuela              0.623278   -0.169091                  0.837038   \nvietnam                0.939593   -0.094533                  0.796421   \nyemen                  0.599920   -0.157735                  0.800288   \nzambia                 0.806500    0.078037                  0.801290   \nzimbabwe               0.711458   -0.072064                  0.810237   \n\n                                   world_region     area  population  \\\ncountry                                                                \nafghanistan                          South Asia   647500    31056997   \nalbania              Central and Eastern Europe    28748     3581655   \nalgeria            Middle East and North Africa  2381740    32930091   \nargentina           Latin America and Caribbean  2766890    39921833   \narmenia      Commonwealth of Independent States    29800     2976372   \n...                                         ...      ...         ...   \nvenezuela           Latin America and Caribbean   912050    25730435   \nvietnam                          Southeast Asia   329560    84402966   \nyemen              Middle East and North Africa   527970    21456188   \nzambia                       Sub-Saharan Africa   752614    11502010   \nzimbabwe                     Sub-Saharan Africa   390580    12236805   \n\n             literacy  population_density  \ncountry                                    \nafghanistan      36.0           47.964474  \nalbania          86.5          124.587971  \nalgeria          70.0           13.826065  \nargentina        97.1           14.428413  \narmenia          98.6           99.878255  \n...               ...                 ...  \nvenezuela        93.4           28.211650  \nvietnam          90.3          256.108041  \nyemen            50.2           40.639029  \nzambia           80.6           15.282748  \nzimbabwe         90.7           31.329830  \n\n[135 rows x 11 columns]",
      "text/html": "<div>\n<style scoped>\n    .dataframe tbody tr th:only-of-type {\n        vertical-align: middle;\n    }\n\n    .dataframe tbody tr th {\n        vertical-align: top;\n    }\n\n    .dataframe thead th {\n        text-align: right;\n    }\n</style>\n<table border=\"1\" class=\"dataframe\">\n  <thead>\n    <tr style=\"text-align: right;\">\n      <th></th>\n      <th>happiness_score</th>\n      <th>social_support</th>\n      <th>healthy_life_expectancy</th>\n      <th>freedom_of_choices</th>\n      <th>generosity</th>\n      <th>perception_of_corruption</th>\n      <th>world_region</th>\n      <th>area</th>\n      <th>population</th>\n      <th>literacy</th>\n      <th>population_density</th>\n    </tr>\n    <tr>\n      <th>country</th>\n      <th></th>\n      <th></th>\n      <th></th>\n      <th></th>\n      <th></th>\n      <th></th>\n      <th></th>\n      <th></th>\n      <th></th>\n      <th></th>\n      <th></th>\n    </tr>\n  </thead>\n  <tbody>\n    <tr>\n      <th>afghanistan</th>\n      <td>2.5669</td>\n      <td>0.470367</td>\n      <td>52.590000</td>\n      <td>0.396573</td>\n      <td>-0.096429</td>\n      <td>0.933687</td>\n      <td>South Asia</td>\n      <td>647500</td>\n      <td>31056997</td>\n      <td>36.0</td>\n      <td>47.964474</td>\n    </tr>\n    <tr>\n      <th>albania</th>\n      <td>4.8827</td>\n      <td>0.671070</td>\n      <td>68.708138</td>\n      <td>0.781994</td>\n      <td>-0.042309</td>\n      <td>0.896304</td>\n      <td>Central and Eastern Europe</td>\n      <td>28748</td>\n      <td>3581655</td>\n      <td>86.5</td>\n      <td>124.587971</td>\n    </tr>\n    <tr>\n      <th>algeria</th>\n      <td>5.0051</td>\n      <td>0.803385</td>\n      <td>65.905174</td>\n      <td>0.466611</td>\n      <td>-0.121105</td>\n      <td>0.735485</td>\n      <td>Middle East and North Africa</td>\n      <td>2381740</td>\n      <td>32930091</td>\n      <td>70.0</td>\n      <td>13.826065</td>\n    </tr>\n    <tr>\n      <th>argentina</th>\n      <td>5.9747</td>\n      <td>0.900568</td>\n      <td>68.803802</td>\n      <td>0.831132</td>\n      <td>-0.194914</td>\n      <td>0.842010</td>\n      <td>Latin America and Caribbean</td>\n      <td>2766890</td>\n      <td>39921833</td>\n      <td>97.1</td>\n      <td>14.428413</td>\n    </tr>\n    <tr>\n      <th>armenia</th>\n      <td>4.6768</td>\n      <td>0.757479</td>\n      <td>66.750656</td>\n      <td>0.712018</td>\n      <td>-0.138780</td>\n      <td>0.773545</td>\n      <td>Commonwealth of Independent States</td>\n      <td>29800</td>\n      <td>2976372</td>\n      <td>98.6</td>\n      <td>99.878255</td>\n    </tr>\n    <tr>\n      <th>...</th>\n      <td>...</td>\n      <td>...</td>\n      <td>...</td>\n      <td>...</td>\n      <td>...</td>\n      <td>...</td>\n      <td>...</td>\n      <td>...</td>\n      <td>...</td>\n      <td>...</td>\n      <td>...</td>\n    </tr>\n    <tr>\n      <th>venezuela</th>\n      <td>5.0532</td>\n      <td>0.890408</td>\n      <td>66.505341</td>\n      <td>0.623278</td>\n      <td>-0.169091</td>\n      <td>0.837038</td>\n      <td>Latin America and Caribbean</td>\n      <td>912050</td>\n      <td>25730435</td>\n      <td>93.4</td>\n      <td>28.211650</td>\n    </tr>\n    <tr>\n      <th>vietnam</th>\n      <td>5.3535</td>\n      <td>0.849987</td>\n      <td>67.952736</td>\n      <td>0.939593</td>\n      <td>-0.094533</td>\n      <td>0.796421</td>\n      <td>Southeast Asia</td>\n      <td>329560</td>\n      <td>84402966</td>\n      <td>90.3</td>\n      <td>256.108041</td>\n    </tr>\n    <tr>\n      <th>yemen</th>\n      <td>3.5274</td>\n      <td>0.817981</td>\n      <td>56.727283</td>\n      <td>0.599920</td>\n      <td>-0.157735</td>\n      <td>0.800288</td>\n      <td>Middle East and North Africa</td>\n      <td>527970</td>\n      <td>21456188</td>\n      <td>50.2</td>\n      <td>40.639029</td>\n    </tr>\n    <tr>\n      <th>zambia</th>\n      <td>3.7594</td>\n      <td>0.698824</td>\n      <td>55.299377</td>\n      <td>0.806500</td>\n      <td>0.078037</td>\n      <td>0.801290</td>\n      <td>Sub-Saharan Africa</td>\n      <td>752614</td>\n      <td>11502010</td>\n      <td>80.6</td>\n      <td>15.282748</td>\n    </tr>\n    <tr>\n      <th>zimbabwe</th>\n      <td>3.2992</td>\n      <td>0.763093</td>\n      <td>55.617260</td>\n      <td>0.711458</td>\n      <td>-0.072064</td>\n      <td>0.810237</td>\n      <td>Sub-Saharan Africa</td>\n      <td>390580</td>\n      <td>12236805</td>\n      <td>90.7</td>\n      <td>31.329830</td>\n    </tr>\n  </tbody>\n</table>\n<p>135 rows × 11 columns</p>\n</div>"
     },
     "execution_count": 13,
     "metadata": {},
     "output_type": "execute_result"
    }
   ],
   "source": [
    "# Write your code here\n",
    "happiness_countries['population_density'] = happiness_countries.population / happiness_countries.area\n",
    "happiness_countries"
   ]
  },
  {
   "cell_type": "markdown",
   "metadata": {},
   "source": [
    "What is the happiness score of the 3 countries with the lowest population density?"
   ]
  },
  {
   "cell_type": "code",
   "execution_count": 14,
   "metadata": {
    "ExecuteTime": {
     "end_time": "2023-09-30T12:12:43.046363384Z",
     "start_time": "2023-09-30T12:12:42.731311370Z"
    }
   },
   "outputs": [
    {
     "data": {
      "text/plain": "country\nmongolia     5.4562\naustralia    7.2228\nbotswana     3.4789\nName: happiness_score, dtype: float64"
     },
     "execution_count": 14,
     "metadata": {},
     "output_type": "execute_result"
    }
   ],
   "source": [
    "# Write your code here\n",
    "happiness_countries.nsmallest(3, ['population_density'], keep='all').happiness_score"
   ]
  },
  {
   "cell_type": "markdown",
   "metadata": {},
   "source": [
    "## Task 6: Healty and happy?\n",
    "\n",
    "Plot in a scatter plot the happiness score (x) and healty life expectancy (y)."
   ]
  },
  {
   "cell_type": "code",
   "execution_count": 29,
   "metadata": {
    "ExecuteTime": {
     "end_time": "2023-09-30T12:18:20.408714355Z",
     "start_time": "2023-09-30T12:18:20.148362161Z"
    }
   },
   "outputs": [
    {
     "data": {
      "text/plain": "Text(0, 0.5, 'Life expectancy')"
     },
     "execution_count": 29,
     "metadata": {},
     "output_type": "execute_result"
    },
    {
     "data": {
      "text/plain": "<Figure size 640x480 with 1 Axes>",
      "image/png": "[encoded data removed]"
     },
     "metadata": {},
     "output_type": "display_data"
    }
   ],
   "source": [
    "# Write your code here\n",
    "# With matplotlib\n",
    "import matplotlib.pyplot as plt\n",
    "plt.scatter(happiness_countries.happiness_score, happiness_countries.healthy_life_expectancy)\n",
    "plt.xlabel('Happiness score')\n",
    "plt.ylabel('Life expectancy')"
   ]
  },
  {
   "cell_type": "code",
   "execution_count": 25,
   "outputs": [
    {
     "data": {
      "text/plain": "<Axes: xlabel='Happiness score', ylabel='Life expectancy'>"
     },
     "execution_count": 25,
     "metadata": {},
     "output_type": "execute_result"
    },
    {
     "data": {
      "text/plain": "<Figure size 640x480 with 1 Axes>",
      "image/png": "[encoded data removed]"
     },
     "metadata": {},
     "output_type": "display_data"
    }
   ],
   "source": [
    "# With pandas\n",
    "happiness_countries.plot.scatter(x='happiness_score', y='healthy_life_expectancy', xlabel='Happiness score', ylabel='Life expectancy')"
   ],
   "metadata": {
    "collapsed": false,
    "ExecuteTime": {
     "end_time": "2023-09-30T12:17:52.724331596Z",
     "start_time": "2023-09-30T12:17:52.522403362Z"
    }
   }
  },
  {
   "cell_type": "markdown",
   "metadata": {},
   "source": [
    "Feel free to continue the exploration of the dataset! We'll release the solutions next week.\n",
    "\n",
    "----\n",
    "Enjoy EPFL and be happy, next year Switzerland must be #1."
   ]
  }
 ],
 "metadata": {
  "kernelspec": {
   "display_name": "Python 3 (ipykernel)",
   "language": "python",
   "name": "python3"
  },
  "language_info": {
   "codemirror_mode": {
    "name": "ipython",
    "version": 3
   },
   "file_extension": ".py",
   "mimetype": "text/x-python",
   "name": "python",
   "nbconvert_exporter": "python",
   "pygments_lexer": "ipython3",
   "version": "3.9.18"
  }
 },
 "nbformat": 4,
 "nbformat_minor": 4
}
