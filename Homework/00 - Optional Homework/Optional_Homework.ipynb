{
 "cells": [
  {
   "cell_type": "markdown",
   "source": [
    "### First try with built-in Python function"
   ],
   "metadata": {
    "collapsed": false
   },
   "id": "a0aa043d48a13c60"
  },
  {
   "cell_type": "code",
   "execution_count": 1,
   "outputs": [],
   "source": [
    "from functools import reduce"
   ],
   "metadata": {
    "collapsed": false,
    "ExecuteTime": {
     "end_time": "2023-09-26T09:24:00.282098631Z",
     "start_time": "2023-09-26T09:24:00.279748993Z"
    }
   },
   "id": "cc10202287dd5e38"
  },
  {
   "cell_type": "markdown",
   "source": [
    "#### Read the file and store entries in list as dictionary of values"
   ],
   "metadata": {
    "collapsed": false
   },
   "id": "9c7595edd9f163ef"
  },
  {
   "cell_type": "code",
   "execution_count": 2,
   "outputs": [],
   "source": [
    "data_list = []\n",
    "\n",
    "with open('data/interactive_data.csv') as data:\n",
    "    a = data.readline() # Skip first line\n",
    "    for entry in data:\n",
    "        entry_l = entry.replace('\"','').split(\",\") # remove first element, no need for index\n",
    "        entry_l.pop(0)\n",
    "        data_list.append({\n",
    "            'Intent': entry_l[0],\n",
    "            'Gender': entry_l[1],\n",
    "            'Age': entry_l[2],\n",
    "            'Race': entry_l[3],\n",
    "            'Deaths': entry_l[4],\n",
    "            'Population': entry_l[5],\n",
    "            'Rate': entry_l[6]\n",
    "        }) "
   ],
   "metadata": {
    "collapsed": false,
    "ExecuteTime": {
     "end_time": "2023-09-26T09:24:00.295482019Z",
     "start_time": "2023-09-26T09:24:00.281192403Z"
    }
   },
   "id": "e41a4b13e185ff21"
  },
  {
   "cell_type": "markdown",
   "source": [
    "First we need to clean the data that we collected, so we will remove any row that contains at least a value 'None selected' "
   ],
   "metadata": {
    "collapsed": false
   },
   "id": "a8ee7da4b3013216"
  },
  {
   "cell_type": "code",
   "execution_count": 3,
   "outputs": [],
   "source": [
    "data_list[0].values()\n",
    "cleaned_data = list(filter(lambda e: 'None selected' not in e.values(), data_list))"
   ],
   "metadata": {
    "collapsed": false,
    "ExecuteTime": {
     "end_time": "2023-09-26T09:24:00.309343617Z",
     "start_time": "2023-09-26T09:24:00.291635612Z"
    }
   },
   "id": "d5104ca39719c6a9"
  },
  {
   "cell_type": "markdown",
   "source": [
    "Then We can compute the number of suicide over the total number of gun deaths"
   ],
   "metadata": {
    "collapsed": false
   },
   "id": "e5accb475c1328f"
  },
  {
   "cell_type": "code",
   "execution_count": 4,
   "outputs": [
    {
     "name": "stdout",
     "output_type": "stream",
     "text": [
      "62.6819% of gun death are Suicide\n"
     ]
    }
   ],
   "source": [
    "suicide = list(filter(lambda e: e['Intent'] == 'Suicide', cleaned_data))\n",
    "\n",
    "nb_death = reduce(lambda acc, n: int(n['Deaths']) + acc, cleaned_data, 0)\n",
    "\n",
    "nb_suicide = reduce(lambda acc, n: int(n['Deaths']) + acc, suicide, 0)\n",
    "\n",
    "print(('%.4f%% of gun death are Suicide' % (nb_suicide/nb_death * 100)))"
   ],
   "metadata": {
    "collapsed": false,
    "ExecuteTime": {
     "end_time": "2023-09-26T09:24:00.336420902Z",
     "start_time": "2023-09-26T09:24:00.301622871Z"
    }
   },
   "id": "bc8672eca765a2d8"
  },
  {
   "cell_type": "markdown",
   "source": [
    "Filter further to only take 'Male' suicide victims into account"
   ],
   "metadata": {
    "collapsed": false
   },
   "id": "aa19a2d9cb24d983"
  },
  {
   "cell_type": "code",
   "execution_count": 5,
   "outputs": [
    {
     "name": "stdout",
     "output_type": "stream",
     "text": [
      "86.2428% of Suicide are Male Suicide\n"
     ]
    }
   ],
   "source": [
    "male_suicide = list(filter(lambda e: e['Gender'] == 'Male', suicide))\n",
    "\n",
    "nb_male_suicide = reduce(lambda acc, n: int(n['Deaths']) + acc, male_suicide, 0)\n",
    "\n",
    "print(('%.4f%% of Suicide are Male Suicide' % (nb_male_suicide / nb_suicide * 100)))"
   ],
   "metadata": {
    "collapsed": false,
    "ExecuteTime": {
     "end_time": "2023-09-26T09:24:00.337338798Z",
     "start_time": "2023-09-26T09:24:00.313604469Z"
    }
   },
   "id": "9fb7bcacf064e527"
  },
  {
   "cell_type": "markdown",
   "source": [
    "Filter on homicides"
   ],
   "metadata": {
    "collapsed": false
   },
   "id": "9b0bde92c3752150"
  },
  {
   "cell_type": "code",
   "execution_count": 6,
   "outputs": [
    {
     "name": "stdout",
     "output_type": "stream",
     "text": [
      "34.9070% of gun death are Homicide\n"
     ]
    }
   ],
   "source": [
    "homicide = list(filter(lambda e: e['Intent'] == 'Homicide', cleaned_data))\n",
    "\n",
    "nb_homicide = reduce(lambda acc, n: int(n['Deaths']) + acc, homicide, 0)\n",
    "print(('%.4f%% of gun death are Homicide' % (nb_homicide/nb_death * 100)))"
   ],
   "metadata": {
    "collapsed": false,
    "ExecuteTime": {
     "end_time": "2023-09-26T09:24:00.434143530Z",
     "start_time": "2023-09-26T09:24:00.322624026Z"
    }
   },
   "id": "9bda4cb1320187d3"
  },
  {
   "cell_type": "markdown",
   "source": [
    "Filter on 'Male' '15-34' in the 'Homicide' group"
   ],
   "metadata": {
    "collapsed": false
   },
   "id": "6c62a4e67e03a17c"
  },
  {
   "cell_type": "code",
   "execution_count": 7,
   "outputs": [
    {
     "name": "stdout",
     "output_type": "stream",
     "text": [
      "66.1248% of Homicide on male aged between 15 and 34 are Black\n"
     ]
    }
   ],
   "source": [
    "homicide_male_15_34 = list(filter(lambda e: e['Age'] == '15 - 34' and e['Gender'] == 'Male', homicide))\n",
    "\n",
    "homicide_black_male_15_34 = list(filter(lambda e: e['Race'] == 'Black', homicide_male_15_34))\n",
    "\n",
    "nb_homicide_black_male_15_34 = reduce(lambda acc, n: int(n['Deaths']) + acc, homicide_black_male_15_34, 0)\n",
    "nb_homicide_male_15_34 = reduce(lambda acc, n: int(n['Deaths']) + acc, homicide_male_15_34, 0)\n",
    "\n",
    "print(('%.4f%% of Homicide on male aged between 15 and 34 are Black' % (nb_homicide_black_male_15_34/nb_homicide_male_15_34 * 100)))"
   ],
   "metadata": {
    "collapsed": false,
    "ExecuteTime": {
     "end_time": "2023-09-26T09:24:00.434654884Z",
     "start_time": "2023-09-26T09:24:00.363808085Z"
    }
   },
   "id": "57daac99867363aa"
  },
  {
   "cell_type": "markdown",
   "source": [
    "Filter on 'Women' in the 'Homicide' group"
   ],
   "metadata": {
    "collapsed": false
   },
   "id": "ccbd2d5c61fe752e"
  },
  {
   "cell_type": "code",
   "execution_count": 8,
   "outputs": [
    {
     "name": "stdout",
     "output_type": "stream",
     "text": [
      "15.2895% of Homicide are committed on women\n"
     ]
    }
   ],
   "source": [
    "homicide_women = list(filter(lambda e: e['Gender'] == 'Female', homicide))\n",
    "\n",
    "nb_homicide_women = reduce(lambda acc, n: int(n['Deaths']) + acc, homicide_women, 0)\n",
    "\n",
    "print(('%.4f%% of Homicide are committed on women' % (nb_homicide_women/nb_homicide * 100)))"
   ],
   "metadata": {
    "collapsed": false,
    "ExecuteTime": {
     "end_time": "2023-09-26T09:24:00.435224961Z",
     "start_time": "2023-09-26T09:24:00.364124880Z"
    }
   },
   "id": "9b6f7078afcf70ee"
  },
  {
   "cell_type": "code",
   "execution_count": 9,
   "outputs": [
    {
     "name": "stdout",
     "output_type": "stream",
     "text": [
      "62.6819% of gun death are Suicide\n",
      "86.2428% of Suicide are Male Suicide\n",
      "34.9070% of gun death are Homicide\n",
      "66.1248% of Homicide on male aged between 15 and 34 are Black\n",
      "15.2895% of Homicide are committed on women\n"
     ]
    }
   ],
   "source": [
    "print(('%.4f%% of gun death are Suicide' % (nb_suicide/nb_death * 100)))\n",
    "print(('%.4f%% of Suicide are Male Suicide' % (nb_male_suicide / nb_suicide * 100)))\n",
    "print(('%.4f%% of gun death are Homicide' % (nb_homicide/nb_death * 100)))\n",
    "print(('%.4f%% of Homicide on male aged between 15 and 34 are Black' % (nb_homicide_black_male_15_34/nb_homicide_male_15_34 * 100)))\n",
    "print(('%.4f%% of Homicide are committed on women' % (nb_homicide_women/nb_homicide * 100)))"
   ],
   "metadata": {
    "collapsed": false,
    "ExecuteTime": {
     "end_time": "2023-09-26T09:24:41.027141212Z",
     "start_time": "2023-09-26T09:24:40.969893105Z"
    }
   },
   "id": "c7aa7018d5249eb8"
  },
  {
   "cell_type": "code",
   "execution_count": null,
   "outputs": [],
   "source": [],
   "metadata": {
    "collapsed": false
   },
   "id": "78374b1674916dd0"
  }
 ],
 "metadata": {
  "kernelspec": {
   "display_name": "Python 3",
   "language": "python",
   "name": "python3"
  },
  "language_info": {
   "codemirror_mode": {
    "name": "ipython",
    "version": 2
   },
   "file_extension": ".py",
   "mimetype": "text/x-python",
   "name": "python",
   "nbconvert_exporter": "python",
   "pygments_lexer": "ipython2",
   "version": "2.7.6"
  }
 },
 "nbformat": 4,
 "nbformat_minor": 5
}
